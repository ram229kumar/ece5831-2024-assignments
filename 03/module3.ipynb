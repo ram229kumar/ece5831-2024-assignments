{
 "cells": [
  {
   "cell_type": "markdown",
   "metadata": {},
   "source": [
    "## Basic Logic Gates"
   ]
  },
  {
   "cell_type": "markdown",
   "metadata": {},
   "source": [
    "### Implementation of basic logic gates like AND, OR, NAND, NOR, XOR."
   ]
  },
  {
   "cell_type": "code",
   "execution_count": 15,
   "metadata": {},
   "outputs": [],
   "source": [
    "import numpy as np\n",
    "from logic_gate import LogicGate"
   ]
  },
  {
   "cell_type": "markdown",
   "metadata": {},
   "source": [
    "### The below class is the logic gates class where each function shows the characteristics of each gate and printOutput which displays the output."
   ]
  },
  {
   "cell_type": "code",
   "execution_count": 16,
   "metadata": {},
   "outputs": [],
   "source": [
    "class LogicGate:\n",
    "    def __init__ (self):\n",
    "        self.w1 = None\n",
    "        self.w2 = None\n",
    "        self.th = None\n",
    "        self.out = None\n",
    "        self.x1 = None\n",
    "        self.x2 = None\n",
    "\n",
    "    def printOutput(self,gateVal):\n",
    "        if(gateVal == 'AND'):\n",
    "            print(f'{self.x1} AND {self.x2} = {self.out}')\n",
    "        elif(gateVal == 'OR'):\n",
    "            print(f'{self.x1} OR {self.x2} = {self.out}')\n",
    "        elif(gateVal == 'NAND'):\n",
    "            print(f'{self.x1} NAND {self.x2} = {self.out}')\n",
    "        elif(gateVal == 'NOR'):\n",
    "            print(f'{self.x1} NOR {self.x2} = {self.out}')\n",
    "        elif(gateVal == 'XOR'):\n",
    "            print(f'{self.x1} XOR {self.x2} = {self.out}')\n",
    "    \n",
    "    def andGate(self,x1,x2):\n",
    "        self.w1 = 1\n",
    "        self.w2 = 1\n",
    "        self.th = 2\n",
    "        self.x1 = x1\n",
    "        self.x2 = x2\n",
    "        x = np.array([self.x1,self.x2])\n",
    "        w = np.array([self.w1,self.w2])\n",
    "\n",
    "        if(np.sum(x*w)>=self.th):\n",
    "            self.out = 1\n",
    "            return 1\n",
    "        else:\n",
    "            self.out = 0\n",
    "            return 0\n",
    "        \n",
    "    def orGate(self,x1,x2):\n",
    "        self.w1 = 1\n",
    "        self.w2 = 1\n",
    "        self.th = 1\n",
    "        self.x1 = x1\n",
    "        self.x2 = x2\n",
    "        x = np.array([self.x1,self.x2])\n",
    "        w = np.array([self.w1,self.w2])\n",
    "\n",
    "        if(np.sum(x*w)>=self.th):\n",
    "            self.out = 1\n",
    "            return 1\n",
    "        else:\n",
    "            self.out = 0\n",
    "            return 0\n",
    "        \n",
    "    def nandGate(self,x1,x2):\n",
    "        self.w1 = -1\n",
    "        self.w2 = -1\n",
    "        self.th = -1\n",
    "        self.x1 = x1\n",
    "        self.x2 = x2\n",
    "        x = np.array([self.x1,self.x2])\n",
    "        w = np.array([self.w1,self.w2])\n",
    "\n",
    "        if(np.sum(x*w)>=self.th):\n",
    "            self.out = 1\n",
    "            return 1\n",
    "        else:\n",
    "            self.out = 0\n",
    "            return 0\n",
    "        \n",
    "    def norGate(self,x1,x2):\n",
    "        self.w1 = -1\n",
    "        self.w2 = -1\n",
    "        self.th = 0\n",
    "        self.x1 = x1\n",
    "        self.x2 = x2\n",
    "        x = np.array([self.x1,self.x2])\n",
    "        w = np.array([self.w1,self.w2])\n",
    "\n",
    "        if(np.sum(x*w)>=self.th):\n",
    "            self.out = 1\n",
    "            return 1\n",
    "        else:\n",
    "            self.out = 0\n",
    "            return 0\n",
    "\n",
    "\n",
    "    # XOR Gate is more complex than the basic gates so we use multiple basic gates to implement this.     \n",
    "    def xorGate(self,x1,x2):\n",
    "        self.x1 = x1\n",
    "        self.x2 = x2\n",
    "\n",
    "        #XOR(A,B) = (A OR B) AND (A NAND B)\n",
    "        orGateResult = self.orGate(self.x1,self.x2)\n",
    "        nandGateResult = self.nandGate(self.x1,self.x2)\n",
    "\n",
    "        xorResultVal = self.andGate(orGateResult,nandGateResult)\n",
    "\n",
    "        self.out = xorResultVal\n",
    "        return xorResultVal\n"
   ]
  },
  {
   "cell_type": "markdown",
   "metadata": {},
   "source": [
    "#### In the below testings, we are looping through the input values to display the gate outputs."
   ]
  },
  {
   "cell_type": "markdown",
   "metadata": {},
   "source": [
    "### AND Gate Testing"
   ]
  },
  {
   "cell_type": "code",
   "execution_count": 17,
   "metadata": {},
   "outputs": [
    {
     "name": "stdout",
     "output_type": "stream",
     "text": [
      "0 AND 0 = 0\n",
      "0 AND 1 = 0\n",
      "1 AND 0 = 0\n",
      "1 AND 1 = 1\n"
     ]
    }
   ],
   "source": [
    "gate = LogicGate()\n",
    "\n",
    "for x,y in [(0,0),(0,1),(1,0),(1,1)]:\n",
    "    gate.andGate(x,y)\n",
    "    gate.printOutput('AND')"
   ]
  },
  {
   "cell_type": "markdown",
   "metadata": {},
   "source": [
    "### OR Gate Testing"
   ]
  },
  {
   "cell_type": "code",
   "execution_count": 18,
   "metadata": {},
   "outputs": [
    {
     "name": "stdout",
     "output_type": "stream",
     "text": [
      "0 OR 0 = 0\n",
      "0 OR 1 = 1\n",
      "1 OR 0 = 1\n",
      "1 OR 1 = 1\n"
     ]
    }
   ],
   "source": [
    "for x,y in [(0,0),(0,1),(1,0),(1,1)]:\n",
    "    gate.orGate(x,y)\n",
    "    gate.printOutput('OR')"
   ]
  },
  {
   "cell_type": "markdown",
   "metadata": {},
   "source": [
    "### NAND Gate Testing "
   ]
  },
  {
   "cell_type": "code",
   "execution_count": 19,
   "metadata": {},
   "outputs": [
    {
     "name": "stdout",
     "output_type": "stream",
     "text": [
      "0 NAND 0 = 1\n",
      "0 NAND 1 = 1\n",
      "1 NAND 0 = 1\n",
      "1 NAND 1 = 0\n"
     ]
    }
   ],
   "source": [
    "for x,y in [(0,0),(0,1),(1,0),(1,1)]:\n",
    "    gate.nandGate(x,y)\n",
    "    gate.printOutput('NAND')"
   ]
  },
  {
   "cell_type": "markdown",
   "metadata": {},
   "source": [
    "### NOR Gate Testing"
   ]
  },
  {
   "cell_type": "code",
   "execution_count": 20,
   "metadata": {},
   "outputs": [
    {
     "name": "stdout",
     "output_type": "stream",
     "text": [
      "0 NOR 0 = 1\n",
      "0 NOR 1 = 0\n",
      "1 NOR 0 = 0\n",
      "1 NOR 1 = 0\n"
     ]
    }
   ],
   "source": [
    "for x,y in [(0,0),(0,1),(1,0),(1,1)]:\n",
    "    gate.norGate(x,y)\n",
    "    gate.printOutput('NOR')"
   ]
  },
  {
   "cell_type": "markdown",
   "metadata": {},
   "source": [
    "### XOR Gate Testing"
   ]
  },
  {
   "cell_type": "code",
   "execution_count": 21,
   "metadata": {},
   "outputs": [
    {
     "name": "stdout",
     "output_type": "stream",
     "text": [
      "0 XOR 1 = 0\n",
      "1 XOR 1 = 1\n",
      "1 XOR 1 = 1\n",
      "1 XOR 0 = 0\n"
     ]
    }
   ],
   "source": [
    "for x,y in [(0,0),(0,1),(1,0),(1,1)]:\n",
    "    gate.xorGate(x,y)\n",
    "    gate.printOutput('XOR')"
   ]
  }
 ],
 "metadata": {
  "kernelspec": {
   "display_name": "ece5831-2024",
   "language": "python",
   "name": "python3"
  },
  "language_info": {
   "codemirror_mode": {
    "name": "ipython",
    "version": 3
   },
   "file_extension": ".py",
   "mimetype": "text/x-python",
   "name": "python",
   "nbconvert_exporter": "python",
   "pygments_lexer": "ipython3",
   "version": "3.10.14"
  }
 },
 "nbformat": 4,
 "nbformat_minor": 2
}
