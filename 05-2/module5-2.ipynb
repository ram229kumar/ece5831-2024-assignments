{
 "cells": [
  {
   "cell_type": "markdown",
   "metadata": {},
   "source": [
    "## Softmax Function"
   ]
  },
  {
   "cell_type": "code",
   "execution_count": 2,
   "metadata": {},
   "outputs": [],
   "source": [
    "import numpy as np"
   ]
  },
  {
   "cell_type": "code",
   "execution_count": 3,
   "metadata": {},
   "outputs": [],
   "source": [
    "def softmax(a):\n",
    "    return np.exp(a)/np.sum(np.exp(a))"
   ]
  },
  {
   "cell_type": "code",
   "execution_count": 4,
   "metadata": {},
   "outputs": [
    {
     "name": "stderr",
     "output_type": "stream",
     "text": [
      "C:\\Users\\ramku\\AppData\\Local\\Temp\\ipykernel_19444\\2942892012.py:2: RuntimeWarning: overflow encountered in exp\n",
      "  return np.exp(a)/np.sum(np.exp(a))\n",
      "C:\\Users\\ramku\\AppData\\Local\\Temp\\ipykernel_19444\\2942892012.py:2: RuntimeWarning: invalid value encountered in divide\n",
      "  return np.exp(a)/np.sum(np.exp(a))\n"
     ]
    }
   ],
   "source": [
    "a=np.array([800,900])\n",
    "s=softmax(a)"
   ]
  },
  {
   "cell_type": "markdown",
   "metadata": {},
   "source": [
    "The above error is due to `exp(a)` reaches infinity when `a` is big(like 900, 1000) etc.\n",
    "\n",
    "The below softmax is a new version."
   ]
  },
  {
   "cell_type": "code",
   "execution_count": 5,
   "metadata": {},
   "outputs": [],
   "source": [
    "def softmax(a):\n",
    "    c = np.max(a)\n",
    "    exp_a = np.exp(a-c)\n",
    "    return exp_a/np.sum(exp_a)"
   ]
  },
  {
   "cell_type": "code",
   "execution_count": 6,
   "metadata": {},
   "outputs": [],
   "source": [
    "a=np.array([800,900])\n",
    "s=softmax(a)"
   ]
  },
  {
   "cell_type": "code",
   "execution_count": 7,
   "metadata": {},
   "outputs": [
    {
     "data": {
      "text/plain": [
       "array([3.72007598e-44, 1.00000000e+00])"
      ]
     },
     "execution_count": 7,
     "metadata": {},
     "output_type": "execute_result"
    }
   ],
   "source": [
    "s"
   ]
  },
  {
   "cell_type": "markdown",
   "metadata": {},
   "source": [
    "## MNIST Dataset"
   ]
  },
  {
   "cell_type": "code",
   "execution_count": 18,
   "metadata": {},
   "outputs": [],
   "source": [
    "import urllib.request\n",
    "import gzip\n",
    "import numpy as np\n",
    "import pickle\n",
    "import os"
   ]
  },
  {
   "cell_type": "code",
   "execution_count": 40,
   "metadata": {},
   "outputs": [],
   "source": [
    "image_size = 28*28\n",
    "dataset_dir='dataset'\n",
    "dataset_pkl = 'mnist.pkl'\n",
    "url_base = 'http://www.jrkwon.com/data/ece5831/mnist/'"
   ]
  },
  {
   "cell_type": "code",
   "execution_count": 20,
   "metadata": {},
   "outputs": [],
   "source": [
    "key_file = {\n",
    "    'train_images': 'train-images-idx3-ubyte.gz',\n",
    "    'train_labels': 'train-labels-idx1-ubyte.gz',\n",
    "    'test_images':  't10k-images-idx3-ubyte.gz',\n",
    "    'test_labels':  't10k-labels-idx1-ubyte.gz'\n",
    "}"
   ]
  },
  {
   "cell_type": "code",
   "execution_count": 21,
   "metadata": {},
   "outputs": [
    {
     "data": {
      "text/plain": [
       "'train-images-idx3-ubyte.gz'"
      ]
     },
     "execution_count": 21,
     "metadata": {},
     "output_type": "execute_result"
    }
   ],
   "source": [
    "key_file['train_images']"
   ]
  },
  {
   "cell_type": "code",
   "execution_count": 24,
   "metadata": {},
   "outputs": [
    {
     "data": {
      "text/plain": [
       "'r:\\\\University_of_Michigan_Dearborn\\\\Fall_2024\\\\ECE-5831-Pattern_Recognition_and_Neural_Networkds-Online\\\\ece5831-2024\\\\05-2'"
      ]
     },
     "execution_count": 24,
     "metadata": {},
     "output_type": "execute_result"
    }
   ],
   "source": [
    "pwd"
   ]
  },
  {
   "cell_type": "code",
   "execution_count": 37,
   "metadata": {},
   "outputs": [
    {
     "data": {
      "text/plain": [
       "('dataset/train-images-idx3-ubyte.gz',\n",
       " <http.client.HTTPMessage at 0x2233e17ed10>)"
      ]
     },
     "execution_count": 37,
     "metadata": {},
     "output_type": "execute_result"
    }
   ],
   "source": [
    "file_name = key_file['train_images']\n",
    "file_path = url_base + file_name\n",
    "url_opener = urllib.request.build_opener()\n",
    "url_opener.addheaders = [('Accept','')]\n",
    "urllib.request.install_opener(url_opener)\n",
    "\n",
    "urllib.request.urlretrieve(file_path, dataset_dir+'/'+file_name)"
   ]
  },
  {
   "cell_type": "code",
   "execution_count": 28,
   "metadata": {},
   "outputs": [
    {
     "data": {
      "text/plain": [
       "True"
      ]
     },
     "execution_count": 28,
     "metadata": {},
     "output_type": "execute_result"
    }
   ],
   "source": [
    "os.path.exists(dataset_dir+'/'+file_name)"
   ]
  },
  {
   "cell_type": "code",
   "execution_count": 35,
   "metadata": {},
   "outputs": [],
   "source": [
    "def _download(file_name):\n",
    "    file_path = dataset_dir+'/'+file_name\n",
    "    if(os.path.exists(file_path)):\n",
    "        print(f'File: {file_name} already exists')\n",
    "        return\n",
    "    print(f'Downloading {file_name}...')\n",
    "    urllib.request.urlretrieve(url_base+file_name, file_path)\n",
    "    print('Done')"
   ]
  },
  {
   "cell_type": "code",
   "execution_count": 31,
   "metadata": {},
   "outputs": [],
   "source": [
    "def _download_all():\n",
    "    for file_name in key_file.values():\n",
    "        _download(file_name)"
   ]
  },
  {
   "cell_type": "code",
   "execution_count": 36,
   "metadata": {},
   "outputs": [
    {
     "name": "stdout",
     "output_type": "stream",
     "text": [
      "File: train-images-idx3-ubyte.gz already exists\n",
      "File: train-labels-idx1-ubyte.gz already exists\n",
      "File: t10k-images-idx3-ubyte.gz already exists\n",
      "File: t10k-labels-idx1-ubyte.gz already exists\n"
     ]
    }
   ],
   "source": [
    "_download_all()"
   ]
  },
  {
   "cell_type": "markdown",
   "metadata": {},
   "source": [
    "Let's create two functions: `_load_images` & `_load_lables`"
   ]
  },
  {
   "cell_type": "code",
   "execution_count": 38,
   "metadata": {},
   "outputs": [],
   "source": [
    "def _load_images(file_name):\n",
    "    with gzip.open(file_name,'rb') as f:\n",
    "        images = np.frombuffer(f.read(),np.uint8,offset=16)\n",
    "    images = images.reshape(-1, image_size)\n",
    "\n",
    "    return images"
   ]
  },
  {
   "cell_type": "code",
   "execution_count": 41,
   "metadata": {},
   "outputs": [],
   "source": [
    "images = _load_images(dataset_dir+'/'+key_file['test_images'])"
   ]
  },
  {
   "cell_type": "code",
   "execution_count": 42,
   "metadata": {},
   "outputs": [
    {
     "data": {
      "text/plain": [
       "(10000, 784)"
      ]
     },
     "execution_count": 42,
     "metadata": {},
     "output_type": "execute_result"
    }
   ],
   "source": [
    "images.shape"
   ]
  },
  {
   "cell_type": "code",
   "execution_count": 43,
   "metadata": {},
   "outputs": [],
   "source": [
    "import matplotlib.pyplot as plt"
   ]
  },
  {
   "cell_type": "code",
   "execution_count": 56,
   "metadata": {},
   "outputs": [],
   "source": [
    "idx = 100"
   ]
  },
  {
   "cell_type": "code",
   "execution_count": 57,
   "metadata": {},
   "outputs": [
    {
     "data": {
      "text/plain": [
       "<matplotlib.image.AxesImage at 0x22340be6c20>"
      ]
     },
     "execution_count": 57,
     "metadata": {},
     "output_type": "execute_result"
    },
    {
     "data": {
      "image/png": "[encoded data removed]",
      "text/plain": [
       "<Figure size 640x480 with 1 Axes>"
      ]
     },
     "metadata": {},
     "output_type": "display_data"
    }
   ],
   "source": [
    "a = images[idx].reshape(28,28)\n",
    "plt.imshow(a)"
   ]
  },
  {
   "cell_type": "code",
   "execution_count": 58,
   "metadata": {},
   "outputs": [],
   "source": [
    "def _load_labels(file_name):\n",
    "    with gzip.open(file_name,'rb') as f:\n",
    "        labels = np.frombuffer(f.read(),np.uint8,offset=8)\n",
    "    return labels"
   ]
  },
  {
   "cell_type": "code",
   "execution_count": 59,
   "metadata": {},
   "outputs": [],
   "source": [
    "labels = _load_labels(f\"{dataset_dir}/{key_file['test_labels']}\")"
   ]
  },
  {
   "cell_type": "code",
   "execution_count": 60,
   "metadata": {},
   "outputs": [
    {
     "data": {
      "text/plain": [
       "6"
      ]
     },
     "execution_count": 60,
     "metadata": {},
     "output_type": "execute_result"
    }
   ],
   "source": [
    "labels[idx]"
   ]
  },
  {
   "cell_type": "code",
   "execution_count": 61,
   "metadata": {},
   "outputs": [],
   "source": [
    "def _create_dataset():\n",
    "    dataset = {}\n",
    "    dataset['train_images'] = _load_images(f\"{dataset_dir}/{key_file['train_images']}\")\n",
    "    dataset['train_labels'] = _load_labels(f\"{dataset_dir}/{key_file['train_labels']}\")\n",
    "    dataset['test_images']  = _load_images(f\"{dataset_dir}/{key_file['test_images']}\")\n",
    "    dataset['test_labels']  = _load_labels(f\"{dataset_dir}/{key_file['test_labels']}\")\n",
    "\n",
    "    with open(f'{dataset_dir}/{dataset_pkl}', 'wb') as f:\n",
    "        print(f'Pickle: {dataset_dir}/{dataset_pkl} is being created.')\n",
    "        pickle.dump(dataset, f)\n",
    "        print('Done.') \n",
    "           \n",
    "    return dataset"
   ]
  },
  {
   "cell_type": "code",
   "execution_count": 62,
   "metadata": {},
   "outputs": [
    {
     "name": "stdout",
     "output_type": "stream",
     "text": [
      "Pickle: dataset/mnist.pkl is being created.\n",
      "Done.\n"
     ]
    }
   ],
   "source": [
    "dataset = _create_dataset()"
   ]
  },
  {
   "cell_type": "code",
   "execution_count": 67,
   "metadata": {},
   "outputs": [
    {
     "data": {
      "text/plain": [
       "array([  0,   0,   0,   0,   0,   0,   0,   0,   0,   0,   0,   0,   0,\n",
       "         0,   0,   0,   0,   0,   0,   0,   0,   0,   0,   0,   0,   0,\n",
       "         0,   0,   0,   0,   0,   0,   0,   0,   0,   0,   0,   0,   0,\n",
       "         0,   0,   0,   0,   0,   0,   0,   0,   0,   0,   0,   0,   0,\n",
       "         0,   0,   0,   0,   0,   0,   0,   0,   0,   0,   0,   0,   0,\n",
       "         0,   0,   0,   0,   0,   0,   0,   0,   0,   0,   0,   0,   0,\n",
       "         0,   0,   0,   0,   0,   0,   0,   0,   0,   0,   0,   0,   0,\n",
       "         0,   0,   0,   0,   0,   0,   0,   0,   0,   0,   0,   0,   0,\n",
       "         0,   0,   0,   0,   0,   0,   0,   0,   0,   0,   0,   0,   0,\n",
       "         0,   0,   0,   0,   0,   0,   0,   0,   0,   0,   0,   0,   0,\n",
       "         0,   0,   0,   0,   0,   0,   0,   0,   0,   0,   0,   0,   0,\n",
       "         0,   0,   0,   0,   0,   0,   0,   0,   0,   0,   0,   0,   0,\n",
       "         0,   0,   0,   0,   0,   0,   0,   0,   0,   0,   0,   0,   0,\n",
       "         0,   0,   0,   0,   0,   0,   0,   0,   0,   0,   0,   0,   2,\n",
       "        18,  46, 136, 136, 244, 255, 241, 103,   0,   0,   0,   0,   0,\n",
       "         0,   0,   0,   0,   0,   0,   0,   0,   0,   0,   0,   0,  15,\n",
       "        94, 163, 253, 253, 253, 253, 238, 218, 204,  35,   0,   0,   0,\n",
       "         0,   0,   0,   0,   0,   0,   0,   0,   0,   0,   0,   0,   0,\n",
       "         0, 131, 253, 253, 253, 253, 237, 200,  57,   0,   0,   0,   0,\n",
       "         0,   0,   0,   0,   0,   0,   0,   0,   0,   0,   0,   0,   0,\n",
       "         0,   0, 155, 246, 253, 247, 108,  65,  45,   0,   0,   0,   0,\n",
       "         0,   0,   0,   0,   0,   0,   0,   0,   0,   0,   0,   0,   0,\n",
       "         0,   0,   0,   0, 207, 253, 253, 230,   0,   0,   0,   0,   0,\n",
       "         0,   0,   0,   0,   0,   0,   0,   0,   0,   0,   0,   0,   0,\n",
       "         0,   0,   0,   0,   0,   0, 157, 253, 253, 125,   0,   0,   0,\n",
       "         0,   0,   0,   0,   0,   0,   0,   0,   0,   0,   0,   0,   0,\n",
       "         0,   0,   0,   0,   0,   0,   0,   0,  89, 253, 250,  57,   0,\n",
       "         0,   0,   0,   0,   0,   0,   0,   0,   0,   0,   0,   0,   0,\n",
       "         0,   0,   0,   0,   0,   0,   0,   0,   0,   0,  89, 253, 247,\n",
       "         0,   0,   0,   0,   0,   0,   0,   0,   0,   0,   0,   0,   0,\n",
       "         0,   0,   0,   0,   0,   0,   0,   0,   0,   0,   0,   0,  89,\n",
       "       253, 247,   0,   0,   0,   0,   0,   0,   0,   0,   0,   0,   0,\n",
       "         0,   0,   0,   0,   0,   0,   0,   0,   0,   0,   0,   0,   0,\n",
       "         0,  89, 253, 247,   0,   0,   0,   0,   0,   0,   0,   0,   0,\n",
       "         0,   0,   0,   0,   0,   0,   0,   0,   0,   0,   0,   0,   0,\n",
       "         0,   0,   0,  21, 231, 249,  34,   0,   0,   0,   0,   0,   0,\n",
       "         0,   0,   0,   0,   0,   0,   0,   0,   0,   0,   0,   0,   0,\n",
       "         0,   0,   0,   0,   0,   0, 225, 253, 231, 213, 213, 123,  16,\n",
       "         0,   0,   0,   0,   0,   0,   0,   0,   0,   0,   0,   0,   0,\n",
       "         0,   0,   0,   0,   0,   0,   0,   0, 172, 253, 253, 253, 253,\n",
       "       253, 190,  63,   0,   0,   0,   0,   0,   0,   0,   0,   0,   0,\n",
       "         0,   0,   0,   0,   0,   0,   0,   0,   0,   0,   2, 116,  72,\n",
       "       124, 209, 253, 253, 141,   0,   0,   0,   0,   0,   0,   0,   0,\n",
       "         0,   0,   0,   0,   0,   0,   0,   0,   0,   0,   0,   0,   0,\n",
       "         0,   0,   0,  25, 219, 253, 206,   3,   0,   0,   0,   0,   0,\n",
       "         0,   0,   0,   0,   0,   0,   0,   0,   0,   0,   0,   0,   0,\n",
       "         0,   0,   0,   0,   0,   0, 104, 246, 253,   5,   0,   0,   0,\n",
       "         0,   0,   0,   0,   0,   0,   0,   0,   0,   0,   0,   0,   0,\n",
       "         0,   0,   0,   0,   0,   0,   0,   0,   0, 213, 253,   5,   0,\n",
       "         0,   0,   0,   0,   0,   0,   0,   0,   0,   0,   0,   0,   0,\n",
       "         0,   0,   0,   0,   0,   0,   0,   0,   0,   0,  26, 226, 253,\n",
       "         5,   0,   0,   0,   0,   0,   0,   0,   0,   0,   0,   0,   0,\n",
       "         0,   0,   0,   0,   0,   0,   0,   0,   0,   0,   0,   0, 132,\n",
       "       253, 209,   3,   0,   0,   0,   0,   0,   0,   0,   0,   0,   0,\n",
       "         0,   0,   0,   0,   0,   0,   0,   0,   0,   0,   0,   0,   0,\n",
       "         0,  78, 253,  86,   0,   0,   0,   0,   0,   0,   0,   0,   0,\n",
       "         0,   0,   0,   0,   0,   0,   0,   0,   0,   0,   0,   0,   0,\n",
       "         0,   0,   0,   0,   0,   0,   0,   0,   0,   0,   0,   0,   0,\n",
       "         0,   0,   0,   0,   0,   0,   0,   0,   0,   0,   0,   0,   0,\n",
       "         0,   0,   0,   0,   0,   0,   0,   0,   0,   0,   0,   0,   0,\n",
       "         0,   0,   0,   0], dtype=uint8)"
      ]
     },
     "execution_count": 67,
     "metadata": {},
     "output_type": "execute_result"
    }
   ],
   "source": [
    "dataset['train_images'][idx]"
   ]
  },
  {
   "cell_type": "code",
   "execution_count": 64,
   "metadata": {},
   "outputs": [
    {
     "name": "stdout",
     "output_type": "stream",
     "text": [
      "Label: 6\n"
     ]
    },
    {
     "data": {
      "image/png": "[encoded data removed]",
      "text/plain": [
       "<Figure size 640x480 with 1 Axes>"
      ]
     },
     "metadata": {},
     "output_type": "display_data"
    }
   ],
   "source": [
    "plt.imshow(dataset['test_images'][idx].reshape(28,28))\n",
    "print(f\"Label: {dataset['test_labels'][idx]}\")"
   ]
  },
  {
   "cell_type": "code",
   "execution_count": 73,
   "metadata": {},
   "outputs": [
    {
     "data": {
      "text/plain": [
       "<matplotlib.image.AxesImage at 0x2233e7cc070>"
      ]
     },
     "execution_count": 73,
     "metadata": {},
     "output_type": "execute_result"
    },
    {
     "data": {
      "image/png": "[encoded data removed]",
      "text/plain": [
       "<Figure size 640x480 with 1 Axes>"
      ]
     },
     "metadata": {},
     "output_type": "display_data"
    }
   ],
   "source": [
    "img = dataset['train_images'][1000].reshape(28,28)\n",
    "plt.imshow(img)"
   ]
  },
  {
   "cell_type": "markdown",
   "metadata": {},
   "source": [
    "Converts the image identified to a bit array which will have `1` if its corresponding to the array index."
   ]
  },
  {
   "cell_type": "code",
   "execution_count": 75,
   "metadata": {},
   "outputs": [],
   "source": [
    "def _change_one_hot_label(y, num_class):\n",
    "    t = np.zeros((y.size, num_class))\n",
    "    for idx, row in enumerate(t):\n",
    "        row[y[idx]] = 1\n",
    "    \n",
    "    return t"
   ]
  },
  {
   "cell_type": "code",
   "execution_count": 79,
   "metadata": {},
   "outputs": [],
   "source": [
    "y = np.array([1,0,9,0,5,8,3,2])\n",
    "one_hot_y = _change_one_hot_label(y,10)"
   ]
  },
  {
   "cell_type": "code",
   "execution_count": 80,
   "metadata": {},
   "outputs": [
    {
     "name": "stdout",
     "output_type": "stream",
     "text": [
      "[1 0 9 0 5 8 3 2]\n",
      "[[0. 1. 0. 0. 0. 0. 0. 0. 0. 0.]\n",
      " [1. 0. 0. 0. 0. 0. 0. 0. 0. 0.]\n",
      " [0. 0. 0. 0. 0. 0. 0. 0. 0. 1.]\n",
      " [1. 0. 0. 0. 0. 0. 0. 0. 0. 0.]\n",
      " [0. 0. 0. 0. 0. 1. 0. 0. 0. 0.]\n",
      " [0. 0. 0. 0. 0. 0. 0. 0. 1. 0.]\n",
      " [0. 0. 0. 1. 0. 0. 0. 0. 0. 0.]\n",
      " [0. 0. 1. 0. 0. 0. 0. 0. 0. 0.]]\n"
     ]
    }
   ],
   "source": [
    "print(y)\n",
    "print(one_hot_y)"
   ]
  },
  {
   "cell_type": "code",
   "execution_count": 81,
   "metadata": {},
   "outputs": [],
   "source": [
    "def _init_dataset():\n",
    "    _download_all()\n",
    "    if os.path.exists(f'{dataset_dir}/{dataset_pkl}'):\n",
    "        with open(f'{dataset_dir}/{dataset_pkl}', 'rb') as f:\n",
    "            print(f'Pickle: {dataset_dir}/{dataset_pkl} already exists.')\n",
    "            print('Loading...')\n",
    "            dataset = pickle.load(f)\n",
    "            print('Done.')\n",
    "    else:\n",
    "        dataset = _create_dataset()\n",
    "\n",
    "    return dataset"
   ]
  },
  {
   "cell_type": "code",
   "execution_count": 83,
   "metadata": {},
   "outputs": [
    {
     "name": "stdout",
     "output_type": "stream",
     "text": [
      "File: train-images-idx3-ubyte.gz already exists\n",
      "File: train-labels-idx1-ubyte.gz already exists\n",
      "File: t10k-images-idx3-ubyte.gz already exists\n",
      "File: t10k-labels-idx1-ubyte.gz already exists\n",
      "Pickle: dataset/mnist.pkl already exists.\n",
      "Loading...\n",
      "Done.\n"
     ]
    }
   ],
   "source": [
    "dataset = _init_dataset()"
   ]
  },
  {
   "cell_type": "code",
   "execution_count": 84,
   "metadata": {},
   "outputs": [
    {
     "data": {
      "text/plain": [
       "(60000, 784)"
      ]
     },
     "execution_count": 84,
     "metadata": {},
     "output_type": "execute_result"
    }
   ],
   "source": [
    "dataset['train_images'].shape"
   ]
  },
  {
   "cell_type": "markdown",
   "metadata": {},
   "source": [
    "## MNISTData Class"
   ]
  },
  {
   "cell_type": "code",
   "execution_count": 85,
   "metadata": {},
   "outputs": [],
   "source": [
    "import numpy as np\n",
    "import matplotlib.pyplot as plt\n",
    "import urllib\n",
    "import gzip\n",
    "import pickle\n",
    "import os"
   ]
  },
  {
   "cell_type": "code",
   "execution_count": 106,
   "metadata": {},
   "outputs": [],
   "source": [
    "class MnistData():\n",
    "    image_dimensions = (28,28)\n",
    "    image_size = image_dimensions[0]*image_dimensions[1]\n",
    "    dataset_dir = 'dataset'\n",
    "    dataset_pkl = 'mnist_pkl'\n",
    "    url_base = 'http://jrkwon.com/data/ece5831/mnist/'\n",
    "\n",
    "    key_file = {\n",
    "        'train_images': 'train-images-idx3-ubyte.gz',\n",
    "        'train_labels': 'train-labels-idx1-ubyte.gz',\n",
    "        'test_images':  't10k-images-idx3-ubyte.gz',\n",
    "        'test_labels':  't10k-labels-idx1-ubyte.gz'\n",
    "    }\n",
    "\n",
    "    def __init__(self):\n",
    "        self.dataset = {}\n",
    "        self.dataset_pkl_path = f'{self.dataset_dir}/{self.dataset_pkl}'\n",
    "\n",
    "        if(os.path.exists(self.dataset_dir) is not True):\n",
    "            os.mkdir(self.dataset_dir)\n",
    "\n",
    "        self._init_dataset()\n",
    "\n",
    "    def _change_one_hot_label(self, y, num_class):\n",
    "        t = np.zeros((y.size, num_class))\n",
    "        for idx, row in enumerate(t):\n",
    "            row[y[idx]] = 1\n",
    "        \n",
    "        return t\n",
    "    \n",
    "    def _download(self, file_name):\n",
    "        file_path = self.dataset_dir + '/' + file_name\n",
    "\n",
    "        if (os.path.exists(file_path)):\n",
    "            print(f'File: {file_name} already exists.')\n",
    "            return\n",
    "        \n",
    "        print(f'Downloading {file_name}...')\n",
    "\n",
    "        # to resolve 406 Not Acceptable error\n",
    "        opener = urllib.request.build_opener()\n",
    "        opener.addheaders = [('Accept', '')]\n",
    "        urllib.request.install_opener(opener)\n",
    "\n",
    "        urllib.request.urlretrieve(self.url_base + file_name, file_path)\n",
    "        print('Done')\n",
    "\n",
    "\n",
    "    def _download_all(self):\n",
    "        for file_name in self.key_file.values():\n",
    "            self._download(file_name)\n",
    "\n",
    "    \n",
    "    def _load_images(self, file_name):\n",
    "        with gzip.open(file_name, 'rb') as f:\n",
    "            images = np.frombuffer(f.read(), np.uint8, offset=16)\n",
    "        images = images.reshape(-1, self.image_size)\n",
    "\n",
    "        return images\n",
    "    \n",
    "\n",
    "    def _load_labels(self, file_name):\n",
    "        with gzip.open(file_name, 'rb') as f:\n",
    "            labels = np.frombuffer(f.read(), np.uint8, offset=8)\n",
    "\n",
    "        return labels\n",
    "\n",
    "    def _create_dataset(self):\n",
    "        file_name = f\"{self.dataset_dir}/{self.key_file['train_images']}\"\n",
    "        self.dataset['train_images'] = self._load_images(file_name)\n",
    "\n",
    "        file_name = f\"{self.dataset_dir}/{self.key_file['train_labels']}\"\n",
    "        self.dataset['train_labels'] = self._load_labels(file_name)\n",
    "\n",
    "        file_name = f\"{self.dataset_dir}/{self.key_file['test_images']}\"\n",
    "        self.dataset['test_images']  = self._load_images(file_name)\n",
    "\n",
    "        file_name = f\"{self.dataset_dir}/{self.key_file['test_labels']}\"\n",
    "        self.dataset['test_labels']  = self._load_labels(file_name)\n",
    "\n",
    "        with open(f'{self.dataset_pkl_path}', 'wb') as f:\n",
    "            print(f'Pickle: {self.dataset_pkl_path} is being created.')\n",
    "            pickle.dump(self.dataset, f)\n",
    "            print('Done.') \n",
    "\n",
    "\n",
    "    def _init_dataset(self):\n",
    "        self._download_all()\n",
    "        if os.path.exists(f'{self.dataset_pkl_path}'):\n",
    "            with open(f'{self.dataset_pkl_path}', 'rb') as f:\n",
    "                print(f'Pickle: {self.dataset_pkl_path} already exists.')\n",
    "                print('Loading...')\n",
    "                self.dataset = pickle.load(f)\n",
    "                print('Done.')\n",
    "        else:\n",
    "            self._create_dataset()\n",
    "\n",
    "\n",
    "    def load(self):\n",
    "        for key in ('train_images', 'test_images'):\n",
    "            self.dataset[key] = self.dataset[key].astype(np.float32)\n",
    "            self.dataset[key] /= 255.0\n",
    "\n",
    "        for key in ('train_labels', 'test_labels'):\n",
    "            self.dataset[key] = self._change_one_hot_label(self.dataset[key], 10)\n",
    "\n",
    "        return (self.dataset['train_images'], self.dataset['train_labels']), \\\n",
    "                (self.dataset['test_images'], self.dataset['test_labels'])\n"
   ]
  },
  {
   "cell_type": "code",
   "execution_count": 117,
   "metadata": {},
   "outputs": [
    {
     "name": "stdout",
     "output_type": "stream",
     "text": [
      "File: train-images-idx3-ubyte.gz already exists.\n",
      "File: train-labels-idx1-ubyte.gz already exists.\n",
      "File: t10k-images-idx3-ubyte.gz already exists.\n",
      "File: t10k-labels-idx1-ubyte.gz already exists.\n",
      "Pickle: dataset/mnist_pkl already exists.\n",
      "Loading...\n",
      "Done.\n"
     ]
    }
   ],
   "source": [
    "mnist_data = MnistData()\n",
    "(train_images,train_labels),(test_images,test_labels) = mnist_data.load()"
   ]
  },
  {
   "cell_type": "code",
   "execution_count": 94,
   "metadata": {},
   "outputs": [
    {
     "data": {
      "text/plain": [
       "(10000, 784)"
      ]
     },
     "execution_count": 94,
     "metadata": {},
     "output_type": "execute_result"
    }
   ],
   "source": [
    "test_images.shape"
   ]
  },
  {
   "cell_type": "code",
   "execution_count": 95,
   "metadata": {},
   "outputs": [],
   "source": [
    "labels = mnist_data.dataset['test_labels']"
   ]
  },
  {
   "cell_type": "code",
   "execution_count": 97,
   "metadata": {},
   "outputs": [
    {
     "data": {
      "text/plain": [
       "(10000, 10)"
      ]
     },
     "execution_count": 97,
     "metadata": {},
     "output_type": "execute_result"
    }
   ],
   "source": [
    "labels.shape"
   ]
  },
  {
   "cell_type": "code",
   "execution_count": 99,
   "metadata": {},
   "outputs": [
    {
     "data": {
      "text/plain": [
       "(28, 28)"
      ]
     },
     "execution_count": 99,
     "metadata": {},
     "output_type": "execute_result"
    }
   ],
   "source": [
    "mnist_data.image_dimensions"
   ]
  },
  {
   "cell_type": "markdown",
   "metadata": {},
   "source": [
    "## Testing the Mnist Class"
   ]
  },
  {
   "cell_type": "code",
   "execution_count": 128,
   "metadata": {},
   "outputs": [],
   "source": [
    "idx1 = np.random.randint(test_images.shape[0], size=1)\n",
    "idx2 = np.random.randint(test_images.shape[0], size=1)"
   ]
  },
  {
   "cell_type": "markdown",
   "metadata": {},
   "source": [
    "### For Test Images & Labels"
   ]
  },
  {
   "cell_type": "code",
   "execution_count": 129,
   "metadata": {},
   "outputs": [
    {
     "name": "stdout",
     "output_type": "stream",
     "text": [
      "Label (one-hot): [[0. 0. 0. 0. 0. 0. 1. 0. 0. 0.]]\n",
      "Label: 6\n"
     ]
    },
    {
     "data": {
      "text/plain": [
       "<matplotlib.image.AxesImage at 0x2233e83fca0>"
      ]
     },
     "execution_count": 129,
     "metadata": {},
     "output_type": "execute_result"
    },
    {
     "data": {
      "image/png": "[encoded data removed]",
      "text/plain": [
       "<Figure size 640x480 with 1 Axes>"
      ]
     },
     "metadata": {},
     "output_type": "display_data"
    }
   ],
   "source": [
    "print(f'Label (one-hot): {test_labels[idx1]}')\n",
    "print(f'Label: {np.argmax(test_labels[idx1])}')\n",
    "plt.imshow(test_images[idx1].reshape(28,28))"
   ]
  },
  {
   "cell_type": "code",
   "execution_count": 130,
   "metadata": {},
   "outputs": [
    {
     "name": "stdout",
     "output_type": "stream",
     "text": [
      "Label (one-hot): [[0. 0. 0. 0. 0. 1. 0. 0. 0. 0.]]\n",
      "Label: 5\n"
     ]
    },
    {
     "data": {
      "text/plain": [
       "<matplotlib.image.AxesImage at 0x22300886b90>"
      ]
     },
     "execution_count": 130,
     "metadata": {},
     "output_type": "execute_result"
    },
    {
     "data": {
      "image/png": "[encoded data removed]",
      "text/plain": [
       "<Figure size 640x480 with 1 Axes>"
      ]
     },
     "metadata": {},
     "output_type": "display_data"
    }
   ],
   "source": [
    "print(f'Label (one-hot): {test_labels[idx2]}')\n",
    "print(f'Label: {np.argmax(test_labels[idx2])}')\n",
    "plt.imshow(test_images[idx2].reshape(28,28))\n"
   ]
  },
  {
   "cell_type": "markdown",
   "metadata": {},
   "source": [
    "### For Train Images & Labels"
   ]
  },
  {
   "cell_type": "code",
   "execution_count": 133,
   "metadata": {},
   "outputs": [
    {
     "name": "stdout",
     "output_type": "stream",
     "text": [
      "Label (one-hot): [[0. 0. 0. 0. 0. 0. 1. 0. 0. 0.]]\n",
      "Label: 6\n"
     ]
    },
    {
     "data": {
      "text/plain": [
       "<matplotlib.image.AxesImage at 0x22300984c10>"
      ]
     },
     "execution_count": 133,
     "metadata": {},
     "output_type": "execute_result"
    },
    {
     "data": {
      "image/png": "[encoded data removed]",
      "text/plain": [
       "<Figure size 640x480 with 1 Axes>"
      ]
     },
     "metadata": {},
     "output_type": "display_data"
    }
   ],
   "source": [
    "\n",
    "print(f'Label (one-hot): {train_labels[idx1]}')\n",
    "print(f'Label: {np.argmax(train_labels[idx1])}')\n",
    "plt.imshow(train_images[idx1].reshape(28,28))"
   ]
  },
  {
   "cell_type": "code",
   "execution_count": 134,
   "metadata": {},
   "outputs": [
    {
     "name": "stdout",
     "output_type": "stream",
     "text": [
      "Label (one-hot): [[0. 0. 0. 1. 0. 0. 0. 0. 0. 0.]]\n",
      "Label: 3\n"
     ]
    },
    {
     "data": {
      "text/plain": [
       "<matplotlib.image.AxesImage at 0x223009ea5f0>"
      ]
     },
     "execution_count": 134,
     "metadata": {},
     "output_type": "execute_result"
    },
    {
     "data": {
      "image/png": "[encoded data removed]",
      "text/plain": [
       "<Figure size 640x480 with 1 Axes>"
      ]
     },
     "metadata": {},
     "output_type": "display_data"
    }
   ],
   "source": [
    "print(f'Label (one-hot): {train_labels[idx2]}')\n",
    "print(f'Label: {np.argmax(train_labels[idx2])}')\n",
    "plt.imshow(train_images[idx2].reshape(28,28))\n"
   ]
  }
 ],
 "metadata": {
  "kernelspec": {
   "display_name": "ece5831-2024",
   "language": "python",
   "name": "python3"
  },
  "language_info": {
   "codemirror_mode": {
    "name": "ipython",
    "version": 3
   },
   "file_extension": ".py",
   "mimetype": "text/x-python",
   "name": "python",
   "nbconvert_exporter": "python",
   "pygments_lexer": "ipython3",
   "version": "3.10.13"
  }
 },
 "nbformat": 4,
 "nbformat_minor": 2
}
