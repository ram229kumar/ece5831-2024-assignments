{
 "cells": [
  {
   "cell_type": "markdown",
   "metadata": {},
   "source": [
    "### Importing required libraries"
   ]
  },
  {
   "cell_type": "code",
   "execution_count": null,
   "metadata": {},
   "outputs": [],
   "source": [
    "import mnist as mn\n",
    "import matplotlib.pyplot as plt\n",
    "import os\n",
    "import numpy as np\n",
    "import subprocess"
   ]
  },
  {
   "cell_type": "markdown",
   "metadata": {},
   "source": [
    "Used `subprocess` to automatically run through the data with and display the output for each test and also cumulatively the end output of showing the correct vs wrong with the total images."
   ]
  },
  {
   "cell_type": "code",
   "execution_count": 44,
   "metadata": {},
   "outputs": [
    {
     "name": "stdout",
     "output_type": "stream",
     "text": [
      "Success: Image 0_0.jpg is for digit 0 is recognized as 0.\n",
      "Success: Image 0_1.jpg is for digit 0 is recognized as 0.\n",
      "Fail: Image 0_2.jpg is for digit 0 but the inference result is 2.\n",
      "Fail: Image 0_3.jpg is for digit 0 but the inference result is 5.\n",
      "Fail: Image 0_4.jpg is for digit 0 but the inference result is 5.\n",
      "Success: Image 1_0.jpg is for digit 1 is recognized as 1.\n",
      "Success: Image 1_1.jpg is for digit 1 is recognized as 1.\n",
      "Success: Image 1_2.jpg is for digit 1 is recognized as 1.\n",
      "Success: Image 1_3.jpg is for digit 1 is recognized as 1.\n",
      "Success: Image 1_4.jpg is for digit 1 is recognized as 1.\n",
      "Success: Image 2_0.jpg is for digit 2 is recognized as 2.\n",
      "Success: Image 2_1.jpg is for digit 2 is recognized as 2.\n",
      "Success: Image 2_2.jpg is for digit 2 is recognized as 2.\n",
      "Success: Image 2_3.jpg is for digit 2 is recognized as 2.\n",
      "Success: Image 2_4.jpg is for digit 2 is recognized as 2.\n",
      "Success: Image 3_0.jpg is for digit 3 is recognized as 3.\n",
      "Success: Image 3_1.jpg is for digit 3 is recognized as 3.\n",
      "Success: Image 3_2.jpg is for digit 3 is recognized as 3.\n",
      "Success: Image 3_3.jpg is for digit 3 is recognized as 3.\n",
      "Success: Image 3_4.jpg is for digit 3 is recognized as 3.\n",
      "Success: Image 4_0.jpg is for digit 4 is recognized as 4.\n",
      "Fail: Image 4_1.jpg is for digit 4 but the inference result is 6.\n",
      "Success: Image 4_2.jpg is for digit 4 is recognized as 4.\n",
      "Success: Image 4_3.jpg is for digit 4 is recognized as 4.\n",
      "Success: Image 4_4.jpg is for digit 4 is recognized as 4.\n",
      "Success: Image 5_0.jpg is for digit 5 is recognized as 5.\n",
      "Success: Image 5_1.jpg is for digit 5 is recognized as 5.\n",
      "Success: Image 5_2.jpg is for digit 5 is recognized as 5.\n",
      "Success: Image 5_3.jpg is for digit 5 is recognized as 5.\n",
      "Fail: Image 5_4.jpg is for digit 5 but the inference result is 3.\n",
      "Fail: Image 6_0.jpg is for digit 6 but the inference result is 8.\n",
      "Success: Image 6_1.jpg is for digit 6 is recognized as 6.\n",
      "Fail: Image 6_2.jpg is for digit 6 but the inference result is 3.\n",
      "Success: Image 6_3.jpg is for digit 6 is recognized as 6.\n",
      "Success: Image 6_4.jpg is for digit 6 is recognized as 6.\n",
      "Success: Image 7_0.jpg is for digit 7 is recognized as 7.\n",
      "Success: Image 7_1.jpg is for digit 7 is recognized as 7.\n",
      "Fail: Image 7_2.jpg is for digit 7 but the inference result is 3.\n",
      "Success: Image 7_3.jpg is for digit 7 is recognized as 7.\n",
      "Success: Image 7_4.jpg is for digit 7 is recognized as 7.\n",
      "Success: Image 8_0.jpg is for digit 8 is recognized as 8.\n",
      "Success: Image 8_1.jpg is for digit 8 is recognized as 8.\n",
      "Success: Image 8_2.jpg is for digit 8 is recognized as 8.\n",
      "Success: Image 8_3.jpg is for digit 8 is recognized as 8.\n",
      "Success: Image 8_4.jpg is for digit 8 is recognized as 8.\n",
      "Fail: Image 9_0.jpg is for digit 9 but the inference result is 3.\n",
      "Success: Image 9_1.jpg is for digit 9 is recognized as 9.\n",
      "Success: Image 9_2.jpg is for digit 9 is recognized as 9.\n",
      "Success: Image 9_3.jpg is for digit 9 is recognized as 9.\n",
      "Fail: Image 9_4.jpg is for digit 9 but the inference result is 7.\n",
      "In total there are 50 number of images out of which there are 40 images predicted correctly and there are 10 images predicted wrongly.\n"
     ]
    }
   ],
   "source": [
    "# Define the base directory for your handwriting images\n",
    "base_dir = 'Custom MNIST Samples'\n",
    "\n",
    "correctCount = 0\n",
    "wrongCount = 0\n",
    "totalImages = 0\n",
    "\n",
    "# Loop through each digit and each image, running module5-3.py\n",
    "for digit in range(10):\n",
    "    digit_dir = os.path.join(base_dir, f'Digit {digit}')\n",
    "    \n",
    "    if os.path.isdir(digit_dir):\n",
    "        for filename in os.listdir(digit_dir):\n",
    "            if filename.endswith('.jpg'):\n",
    "                image_path = filename\n",
    "                totalImages+=1\n",
    "                result = subprocess.run([\"python\",\"module5-3.py\",image_path,str(filename)[0]],capture_output=True,text=True)\n",
    "                output = result.stdout.strip()\n",
    "                print(output)\n",
    "\n",
    "                if \"Success\" in output:\n",
    "                    correctCount+=1\n",
    "                else:\n",
    "                    wrongCount+=1\n",
    "                # if totalImages==10: break\n",
    "    # if totalImages==10: break\n",
    "\n",
    "\n",
    "print(f'In total there are {totalImages} number of images out of which there are {correctCount} images predicted correctly and there are {wrongCount} images predicted wrongly.')"
   ]
  }
 ],
 "metadata": {
  "kernelspec": {
   "display_name": "teachable-python-ece5831-2024",
   "language": "python",
   "name": "python3"
  },
  "language_info": {
   "codemirror_mode": {
    "name": "ipython",
    "version": 3
   },
   "file_extension": ".py",
   "mimetype": "text/x-python",
   "name": "python",
   "nbconvert_exporter": "python",
   "pygments_lexer": "ipython3",
   "version": "3.11.7"
  }
 },
 "nbformat": 4,
 "nbformat_minor": 2
}
