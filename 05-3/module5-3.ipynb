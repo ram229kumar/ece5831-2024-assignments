{
 "cells": [
  {
   "cell_type": "markdown",
   "metadata": {},
   "source": [
    "### Importing required libraries"
   ]
  },
  {
   "cell_type": "code",
   "execution_count": null,
   "metadata": {},
   "outputs": [],
   "source": [
    "import mnist as mn\n",
    "import matplotlib.pyplot as plt\n",
    "import os\n",
    "import numpy as np\n",
    "import subprocess"
   ]
  },
  {
   "cell_type": "markdown",
   "metadata": {},
   "source": [
    "Used `subprocess` to automatically run through the data with and display the output for each test and also cumulatively the end output of showing the correct vs wrong with the total images."
   ]
  },
  {
   "cell_type": "code",
   "execution_count": 43,
   "metadata": {},
   "outputs": [
    {
     "name": "stdout",
     "output_type": "stream",
     "text": [
      "In total there are 50 number of images out of which there are 40 images predicted correctly and there are 10 images predicted wrongly.\n"
     ]
    }
   ],
   "source": [
    "# Define the base directory for your handwriting images\n",
    "base_dir = 'Custom MNIST Samples'\n",
    "\n",
    "correctCount = 0\n",
    "wrongCount = 0\n",
    "totalImages = 0\n",
    "\n",
    "# Loop through each digit and each image, running module5-3.py\n",
    "for digit in range(10):\n",
    "    digit_dir = os.path.join(base_dir, f'Digit {digit}')\n",
    "    \n",
    "    if os.path.isdir(digit_dir):\n",
    "        for filename in os.listdir(digit_dir):\n",
    "            if filename.endswith('.jpg'):\n",
    "                image_path = filename\n",
    "                totalImages+=1\n",
    "                result = subprocess.run([\"python\",\"module5-3.py\",image_path,str(filename)[0]],capture_output=True,text=True)\n",
    "                output = result.stdout.strip()\n",
    "                # print(output)\n",
    "\n",
    "                if \"Success\" in output:\n",
    "                    correctCount+=1\n",
    "                else:\n",
    "                    wrongCount+=1\n",
    "                # if totalImages==10: break\n",
    "    # if totalImages==10: break\n",
    "\n",
    "\n",
    "print(f'In total there are {totalImages} number of images out of which there are {correctCount} images predicted correctly and there are {wrongCount} images predicted wrongly.')"
   ]
  }
 ],
 "metadata": {
  "kernelspec": {
   "display_name": "teachable-python-ece5831-2024",
   "language": "python",
   "name": "python3"
  },
  "language_info": {
   "codemirror_mode": {
    "name": "ipython",
    "version": 3
   },
   "file_extension": ".py",
   "mimetype": "text/x-python",
   "name": "python",
   "nbconvert_exporter": "python",
   "pygments_lexer": "ipython3",
   "version": "3.11.7"
  }
 },
 "nbformat": 4,
 "nbformat_minor": 2
}
