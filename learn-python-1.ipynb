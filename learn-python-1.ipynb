{
 "cells": [
  {
   "cell_type": "markdown",
   "metadata": {},
   "source": [
    "### Hello, World!"
   ]
  },
  {
   "cell_type": "code",
   "execution_count": 1,
   "metadata": {},
   "outputs": [
    {
     "name": "stdout",
     "output_type": "stream",
     "text": [
      "This line will be printed.\n"
     ]
    }
   ],
   "source": [
    "print(\"This line will be printed.\")"
   ]
  },
  {
   "cell_type": "code",
   "execution_count": 2,
   "metadata": {},
   "outputs": [
    {
     "name": "stdout",
     "output_type": "stream",
     "text": [
      "x is 1.\n"
     ]
    }
   ],
   "source": [
    "x = 1\n",
    "if x == 1:\n",
    "    print(\"x is 1.\")"
   ]
  },
  {
   "cell_type": "code",
   "execution_count": 3,
   "metadata": {},
   "outputs": [
    {
     "name": "stdout",
     "output_type": "stream",
     "text": [
      "Goodbye, world!\n"
     ]
    }
   ],
   "source": [
    "print(\"Goodbye, world!\")"
   ]
  },
  {
   "cell_type": "markdown",
   "metadata": {},
   "source": [
    "### Variables and Types"
   ]
  },
  {
   "cell_type": "code",
   "execution_count": 4,
   "metadata": {},
   "outputs": [
    {
     "name": "stdout",
     "output_type": "stream",
     "text": [
      "7\n"
     ]
    }
   ],
   "source": [
    "myint = 9\n",
    "print(myint)"
   ]
  },
  {
   "cell_type": "code",
   "execution_count": 5,
   "metadata": {},
   "outputs": [
    {
     "name": "stdout",
     "output_type": "stream",
     "text": [
      "9.0\n",
      "9.0\n"
     ]
    }
   ],
   "source": [
    "myfloat = 9.0\n",
    "print(myfloat)\n",
    "myfloat = float(9)\n",
    "print(myfloat)"
   ]
  },
  {
   "cell_type": "code",
   "execution_count": 6,
   "metadata": {},
   "outputs": [
    {
     "name": "stdout",
     "output_type": "stream",
     "text": [
      "hello\n",
      "hello\n"
     ]
    }
   ],
   "source": [
    "mystring = 'hello'\n",
    "print(mystring)\n",
    "mystring = \"hello\"\n",
    "print(mystring)"
   ]
  },
  {
   "cell_type": "code",
   "execution_count": 7,
   "metadata": {},
   "outputs": [
    {
     "name": "stdout",
     "output_type": "stream",
     "text": [
      "Don't worry about apostrophes\n"
     ]
    }
   ],
   "source": [
    "mystring = \"Don't worry about apostrophes\"\n",
    "print(mystring)"
   ]
  },
  {
   "cell_type": "code",
   "execution_count": 8,
   "metadata": {},
   "outputs": [
    {
     "name": "stdout",
     "output_type": "stream",
     "text": [
      "3\n",
      "hello world\n"
     ]
    }
   ],
   "source": [
    "one  = 1\n",
    "two = 2\n",
    "three  = one + two\n",
    "print(three)\n",
    "\n",
    "hello = \"hello\"\n",
    "world = \"world\"\n",
    "helloworld = hello + \" \" + world\n",
    "print(helloworld)"
   ]
  },
  {
   "cell_type": "code",
   "execution_count": 9,
   "metadata": {},
   "outputs": [
    {
     "name": "stdout",
     "output_type": "stream",
     "text": [
      "3 4\n"
     ]
    }
   ],
   "source": [
    "a, b = 3, 4\n",
    "print(a,b)"
   ]
  },
  {
   "cell_type": "code",
   "execution_count": 10,
   "metadata": {},
   "outputs": [
    {
     "ename": "TypeError",
     "evalue": "unsupported operand type(s) for +: 'int' and 'str'",
     "output_type": "error",
     "traceback": [
      "\u001b[1;31m---------------------------------------------------------------------------\u001b[0m",
      "\u001b[1;31mTypeError\u001b[0m                                 Traceback (most recent call last)",
      "Cell \u001b[1;32mIn[10], line 5\u001b[0m\n\u001b[0;32m      2\u001b[0m two  \u001b[38;5;241m=\u001b[39m \u001b[38;5;241m2\u001b[39m\n\u001b[0;32m      3\u001b[0m hello \u001b[38;5;241m=\u001b[39m \u001b[38;5;124m\"\u001b[39m\u001b[38;5;124mhello\u001b[39m\u001b[38;5;124m\"\u001b[39m\n\u001b[1;32m----> 5\u001b[0m \u001b[38;5;28mprint\u001b[39m(\u001b[43mone\u001b[49m\u001b[43m \u001b[49m\u001b[38;5;241;43m+\u001b[39;49m\u001b[43m \u001b[49m\u001b[43mtwo\u001b[49m\u001b[43m \u001b[49m\u001b[38;5;241;43m+\u001b[39;49m\u001b[43m \u001b[49m\u001b[43mhello\u001b[49m)\n",
      "\u001b[1;31mTypeError\u001b[0m: unsupported operand type(s) for +: 'int' and 'str'"
     ]
    }
   ],
   "source": [
    "one  = 1\n",
    "two  = 2\n",
    "hello = \"hello\"\n",
    "\n",
    "print(one + two + hello)"
   ]
  },
  {
   "cell_type": "code",
   "execution_count": 11,
   "metadata": {},
   "outputs": [
    {
     "name": "stdout",
     "output_type": "stream",
     "text": [
      "String: hello\n",
      "Float: 10.000000\n",
      "Integer: 20\n"
     ]
    }
   ],
   "source": [
    "mystring = \"hello\"\n",
    "myfloat = 10.0\n",
    "myint = 20\n",
    "\n",
    "if mystring == \"hello\":\n",
    "    print(\"String: %s\" % mystring)\n",
    "if isinstance(myfloat, float) and myfloat == 10.0:\n",
    "    print(\"Float: %f\" % myfloat)\n",
    "if isinstance(myint, int) and myint == 20:\n",
    "    print(\"Integer: %d\" % myint)"
   ]
  },
  {
   "cell_type": "markdown",
   "metadata": {},
   "source": [
    "### Lists"
   ]
  },
  {
   "cell_type": "code",
   "execution_count": 12,
   "metadata": {},
   "outputs": [
    {
     "name": "stdout",
     "output_type": "stream",
     "text": [
      "1\n",
      "2\n",
      "3\n",
      "1\n",
      "2\n",
      "3\n"
     ]
    }
   ],
   "source": [
    "mylist = []\n",
    "mylist.append(1)\n",
    "mylist.append(2)\n",
    "mylist.append(3)\n",
    "print(mylist[0])\n",
    "print(mylist[1])\n",
    "print(mylist[2])\n",
    "\n",
    "for x in mylist:\n",
    "    print(x)"
   ]
  },
  {
   "cell_type": "code",
   "execution_count": 13,
   "metadata": {},
   "outputs": [
    {
     "ename": "IndexError",
     "evalue": "list index out of range",
     "output_type": "error",
     "traceback": [
      "\u001b[1;31m---------------------------------------------------------------------------\u001b[0m",
      "\u001b[1;31mIndexError\u001b[0m                                Traceback (most recent call last)",
      "Cell \u001b[1;32mIn[13], line 2\u001b[0m\n\u001b[0;32m      1\u001b[0m mylist \u001b[38;5;241m=\u001b[39m [\u001b[38;5;241m1\u001b[39m,\u001b[38;5;241m2\u001b[39m,\u001b[38;5;241m3\u001b[39m]\n\u001b[1;32m----> 2\u001b[0m \u001b[38;5;28mprint\u001b[39m(\u001b[43mmylist\u001b[49m\u001b[43m[\u001b[49m\u001b[38;5;241;43m10\u001b[39;49m\u001b[43m]\u001b[49m)\n",
      "\u001b[1;31mIndexError\u001b[0m: list index out of range"
     ]
    }
   ],
   "source": [
    "mylist = [1,2,3]\n",
    "print(mylist[10])"
   ]
  },
  {
   "cell_type": "code",
   "execution_count": 14,
   "metadata": {},
   "outputs": [
    {
     "name": "stdout",
     "output_type": "stream",
     "text": [
      "[1, 2, 3]\n",
      "['hello', 'world']\n",
      "The second name on the names list is Eric\n"
     ]
    }
   ],
   "source": [
    "numbers = []\n",
    "numbers.append(1)\n",
    "numbers.append(2)\n",
    "numbers.append(3)\n",
    "strings = []\n",
    "strings.append(\"hello\")\n",
    "strings.append(\"world\")\n",
    "names = [\"John\", \"Eric\", \"Jessica\"]\n",
    "\n",
    "second_name = names[1]\n",
    "\n",
    "print(numbers)\n",
    "print(strings)\n",
    "print(\"The second name on the names list is %s\" % second_name)"
   ]
  },
  {
   "cell_type": "markdown",
   "metadata": {},
   "source": [
    "### Basic Operators"
   ]
  },
  {
   "cell_type": "code",
   "execution_count": 15,
   "metadata": {},
   "outputs": [
    {
     "name": "stdout",
     "output_type": "stream",
     "text": [
      "2.5\n"
     ]
    }
   ],
   "source": [
    "number = 1 + 2*3/4.0\n",
    "print(number)"
   ]
  },
  {
   "cell_type": "code",
   "execution_count": 16,
   "metadata": {},
   "outputs": [
    {
     "name": "stdout",
     "output_type": "stream",
     "text": [
      "2\n"
     ]
    }
   ],
   "source": [
    "remainder = 11%3\n",
    "print(remainder)"
   ]
  },
  {
   "cell_type": "code",
   "execution_count": 17,
   "metadata": {},
   "outputs": [
    {
     "name": "stdout",
     "output_type": "stream",
     "text": [
      "49\n",
      "8\n"
     ]
    }
   ],
   "source": [
    "squared = 7 ** 2\n",
    "cubed = 2 ** 3\n",
    "print(squared)\n",
    "print(cubed)"
   ]
  },
  {
   "cell_type": "code",
   "execution_count": 18,
   "metadata": {},
   "outputs": [
    {
     "name": "stdout",
     "output_type": "stream",
     "text": [
      "hello world\n"
     ]
    }
   ],
   "source": [
    "helloworld = \"hello\"+\" \"+\"world\"\n",
    "print(helloworld)"
   ]
  },
  {
   "cell_type": "code",
   "execution_count": 19,
   "metadata": {},
   "outputs": [
    {
     "name": "stdout",
     "output_type": "stream",
     "text": [
      "hellohellohellohellohellohellohellohellohellohello\n"
     ]
    }
   ],
   "source": [
    "lotsofhellos = \"hello\"*10\n",
    "print(lotsofhellos)"
   ]
  },
  {
   "cell_type": "code",
   "execution_count": 20,
   "metadata": {},
   "outputs": [
    {
     "name": "stdout",
     "output_type": "stream",
     "text": [
      "[1, 3, 5, 7, 2, 4, 6, 8]\n"
     ]
    }
   ],
   "source": [
    "even_numbers = [2,4,6,8]\n",
    "odd_numbers = [1,3,5,7]\n",
    "all_numbers = odd_numbers + even_numbers\n",
    "print(all_numbers)"
   ]
  },
  {
   "cell_type": "code",
   "execution_count": 21,
   "metadata": {},
   "outputs": [
    {
     "name": "stdout",
     "output_type": "stream",
     "text": [
      "[1, 2, 3, 1, 2, 3, 1, 2, 3]\n"
     ]
    }
   ],
   "source": [
    "print([1,2,3]*3)"
   ]
  },
  {
   "cell_type": "code",
   "execution_count": 22,
   "metadata": {},
   "outputs": [
    {
     "name": "stdout",
     "output_type": "stream",
     "text": [
      "x_list contains 10 objects \n",
      "y_list contains 10 objects \n",
      "big_list contains 20 objects\n",
      "Almost there...\n",
      "Great!\n"
     ]
    }
   ],
   "source": [
    "x = object()\n",
    "y = object()\n",
    "\n",
    "x_list = [x] * 10\n",
    "y_list = [y] * 10\n",
    "big_list = x_list + y_list\n",
    "\n",
    "print(\"x_list contains %d objects \" % len(x_list))\n",
    "print(\"y_list contains %d objects \" % len(y_list))\n",
    "print(\"big_list contains %d objects\" % len(big_list))\n",
    "\n",
    "if x_list.count(x) == 10 and y_list.count(y) == 10:\n",
    "    print(\"Almost there...\")\n",
    "if big_list.count(x) == 10 and big_list.count(y) == 10:\n",
    "    print(\"Great!\")"
   ]
  },
  {
   "cell_type": "markdown",
   "metadata": {},
   "source": [
    "### String Formatting"
   ]
  },
  {
   "cell_type": "code",
   "execution_count": 23,
   "metadata": {},
   "outputs": [
    {
     "name": "stdout",
     "output_type": "stream",
     "text": [
      "Hello, John!\n"
     ]
    }
   ],
   "source": [
    "name = \"John\"\n",
    "print(\"Hello, %s!\" % name)"
   ]
  },
  {
   "cell_type": "code",
   "execution_count": 24,
   "metadata": {},
   "outputs": [
    {
     "name": "stdout",
     "output_type": "stream",
     "text": [
      "John is 23 years old.\n"
     ]
    }
   ],
   "source": [
    "name = \"John\"\n",
    "age = 23\n",
    "print(\"%s is %d years old.\" %(name, age))"
   ]
  },
  {
   "cell_type": "code",
   "execution_count": 25,
   "metadata": {},
   "outputs": [
    {
     "name": "stdout",
     "output_type": "stream",
     "text": [
      "A list: [1, 2, 3]\n"
     ]
    }
   ],
   "source": [
    "mylist = [1,2,3]\n",
    "print(\"A list: %s\" % mylist)"
   ]
  },
  {
   "cell_type": "code",
   "execution_count": 26,
   "metadata": {},
   "outputs": [
    {
     "name": "stdout",
     "output_type": "stream",
     "text": [
      "Hello John Doe. Your current balance is $53.44.\n"
     ]
    }
   ],
   "source": [
    "data = (\"John\",\"Doe\",53.44)\n",
    "format_string = \"Hello %s %s. Your current balance is $%s.\"\n",
    "\n",
    "print(format_string % data)"
   ]
  },
  {
   "cell_type": "markdown",
   "metadata": {},
   "source": [
    "### Basic String Operations"
   ]
  },
  {
   "cell_type": "code",
   "execution_count": 27,
   "metadata": {},
   "outputs": [],
   "source": [
    "astring = \"Hello world!\"\n",
    "astring2 = 'Hello world!'"
   ]
  },
  {
   "cell_type": "code",
   "execution_count": 28,
   "metadata": {},
   "outputs": [
    {
     "name": "stdout",
     "output_type": "stream",
     "text": [
      "Single quotes are ' '\n",
      "12\n"
     ]
    }
   ],
   "source": [
    "astring = \"Hello world!\"\n",
    "print(\"Single quotes are ' '\")\n",
    "\n",
    "print(len(astring))"
   ]
  },
  {
   "cell_type": "code",
   "execution_count": 29,
   "metadata": {},
   "outputs": [
    {
     "name": "stdout",
     "output_type": "stream",
     "text": [
      "4\n"
     ]
    }
   ],
   "source": [
    "astring = \"Hello world!\"\n",
    "print(astring.index(\"o\"))"
   ]
  },
  {
   "cell_type": "code",
   "execution_count": 30,
   "metadata": {},
   "outputs": [
    {
     "name": "stdout",
     "output_type": "stream",
     "text": [
      "3\n"
     ]
    }
   ],
   "source": [
    "astring = \"Hello world!\"\n",
    "print(astring.count(\"l\"))"
   ]
  },
  {
   "cell_type": "code",
   "execution_count": 31,
   "metadata": {},
   "outputs": [
    {
     "name": "stdout",
     "output_type": "stream",
     "text": [
      "lo w\n"
     ]
    }
   ],
   "source": [
    "astring = \"Hello world!\"\n",
    "print(astring[3:7])"
   ]
  },
  {
   "cell_type": "code",
   "execution_count": 32,
   "metadata": {},
   "outputs": [
    {
     "name": "stdout",
     "output_type": "stream",
     "text": [
      "l \n"
     ]
    }
   ],
   "source": [
    "astring = \"Hello world!\"\n",
    "print(astring[3:7:2])"
   ]
  },
  {
   "cell_type": "code",
   "execution_count": 33,
   "metadata": {},
   "outputs": [
    {
     "name": "stdout",
     "output_type": "stream",
     "text": [
      "lo w\n",
      "lo w\n"
     ]
    }
   ],
   "source": [
    "astring = \"Hello world!\"\n",
    "print(astring[3:7])\n",
    "print(astring[3:7:1])"
   ]
  },
  {
   "cell_type": "code",
   "execution_count": 34,
   "metadata": {},
   "outputs": [
    {
     "name": "stdout",
     "output_type": "stream",
     "text": [
      "!dlrow olleH\n"
     ]
    }
   ],
   "source": [
    "astring = \"Hello world!\"\n",
    "print(astring[::-1])"
   ]
  },
  {
   "cell_type": "code",
   "execution_count": 35,
   "metadata": {},
   "outputs": [
    {
     "name": "stdout",
     "output_type": "stream",
     "text": [
      "HELLO WORLD!\n",
      "hello world!\n"
     ]
    }
   ],
   "source": [
    "astring = \"Hello world!\"\n",
    "print(astring.upper())\n",
    "print(astring.lower())"
   ]
  },
  {
   "cell_type": "code",
   "execution_count": 36,
   "metadata": {},
   "outputs": [
    {
     "name": "stdout",
     "output_type": "stream",
     "text": [
      "True\n",
      "False\n"
     ]
    }
   ],
   "source": [
    "astring  = \"Hello world!\"\n",
    "print(astring.startswith(\"Hello\"))\n",
    "print(astring.endswith(\"asdfasdfasdf\"))"
   ]
  },
  {
   "cell_type": "code",
   "execution_count": 37,
   "metadata": {},
   "outputs": [],
   "source": [
    "astring = \"Hello world!\"\n",
    "afewwords = astring.split(\" \")"
   ]
  },
  {
   "cell_type": "code",
   "execution_count": 38,
   "metadata": {},
   "outputs": [
    {
     "name": "stdout",
     "output_type": "stream",
     "text": [
      "Length of s = 20\n",
      "The first occurrence of the letter a = 8\n",
      "a occurs 2 times\n",
      "The first five characters are 'Strin'\n",
      "The next five characters are 'gs ar'\n",
      "The thirteenth character is 'a'\n",
      "The characters with odd index are 'tig r wsm!'\n",
      "The last five characters are 'some!'\n",
      "String in uppercase: STRINGS ARE AWESOME!\n",
      "String in lowercase: strings are awesome!\n",
      "String starts with 'Str'. Good!\n",
      "String ends with 'ome!'. Good!\n",
      "Split the words of the string: ['Strings', 'are', 'awesome!']\n"
     ]
    }
   ],
   "source": [
    "s = \"Strings are awesome!\"\n",
    "\n",
    "print(\"Length of s = %d\" % len(s))\n",
    "\n",
    "print(\"The first occurrence of the letter a = %d\" % s.index(\"a\"))\n",
    "\n",
    "print(\"a occurs %d times\" % s.count(\"a\"))\n",
    "\n",
    "print(\"The first five characters are '%s'\" % s[:5])\n",
    "print(\"The next five characters are '%s'\" % s[5:10])\n",
    "print(\"The thirteenth character is '%s'\" % s[12])\n",
    "print(\"The characters with odd index are '%s'\" %s[1::2])\n",
    "print(\"The last five characters are '%s'\" % s[-5:])\n",
    "\n",
    "print(\"String in uppercase: %s\" % s.upper())\n",
    "\n",
    "print(\"String in lowercase: %s\" % s.lower())\n",
    "\n",
    "if s.startswith(\"Str\"):\n",
    "    print(\"String starts with 'Str'. Good!\")\n",
    "\n",
    "if s.endswith(\"ome!\"):\n",
    "    print(\"String ends with 'ome!'. Good!\")\n",
    "\n",
    "print(\"Split the words of the string: %s\" % s.split(\" \"))"
   ]
  },
  {
   "cell_type": "markdown",
   "metadata": {},
   "source": [
    "### Conditions"
   ]
  },
  {
   "cell_type": "code",
   "execution_count": 39,
   "metadata": {},
   "outputs": [
    {
     "name": "stdout",
     "output_type": "stream",
     "text": [
      "True\n",
      "False\n",
      "True\n"
     ]
    }
   ],
   "source": [
    "x = 2\n",
    "print(x==2)\n",
    "print(x==3)\n",
    "print(x<3)"
   ]
  },
  {
   "cell_type": "code",
   "execution_count": 40,
   "metadata": {},
   "outputs": [
    {
     "name": "stdout",
     "output_type": "stream",
     "text": [
      "Your name is John, and you are also 23 years old.\n",
      "Your name is either John or Rick.\n"
     ]
    }
   ],
   "source": [
    "name = \"John\"\n",
    "age = 23\n",
    "if name == \"John\" and age == 23:\n",
    "    print(\"Your name is John, and you are also 23 years old.\")\n",
    "\n",
    "if name == \"John\" or name == \"Rick\":\n",
    "    print(\"Your name is either John or Rick.\")"
   ]
  },
  {
   "cell_type": "code",
   "execution_count": 41,
   "metadata": {},
   "outputs": [
    {
     "name": "stdout",
     "output_type": "stream",
     "text": [
      "Your name is either John or Rick.\n"
     ]
    }
   ],
   "source": [
    "name = \"John\"\n",
    "if name in [\"John\",\"Rick\"]:\n",
    "    print(\"Your name is either John or Rick.\")"
   ]
  },
  {
   "cell_type": "code",
   "execution_count": 43,
   "metadata": {},
   "outputs": [
    {
     "name": "stdout",
     "output_type": "stream",
     "text": [
      "The another_statement is True.\n"
     ]
    }
   ],
   "source": [
    "statement = False\n",
    "another_statement = True\n",
    "if statement is True:\n",
    "    print(\"The statement is True.\")\n",
    "elif another_statement is True:\n",
    "    print(\"The another_statement is True.\")\n",
    "else:\n",
    "    print(\"Both statement and another_statement are False.\")"
   ]
  },
  {
   "cell_type": "code",
   "execution_count": 44,
   "metadata": {},
   "outputs": [
    {
     "name": "stdout",
     "output_type": "stream",
     "text": [
      "x equals two!\n"
     ]
    }
   ],
   "source": [
    "x = 2\n",
    "if x==2:\n",
    "    print(\"x equals two!\")\n",
    "else:\n",
    "    print(\"x does not equal to two.\")"
   ]
  },
  {
   "cell_type": "code",
   "execution_count": 45,
   "metadata": {},
   "outputs": [
    {
     "name": "stdout",
     "output_type": "stream",
     "text": [
      "True\n",
      "False\n"
     ]
    }
   ],
   "source": [
    "x = [1,2,3]\n",
    "y = [1,2,3]\n",
    "print(x==y)\n",
    "print(x is y)"
   ]
  },
  {
   "cell_type": "code",
   "execution_count": 46,
   "metadata": {},
   "outputs": [
    {
     "name": "stdout",
     "output_type": "stream",
     "text": [
      "True\n",
      "False\n"
     ]
    }
   ],
   "source": [
    "print(not False)\n",
    "print((not False) == (False))"
   ]
  },
  {
   "cell_type": "code",
   "execution_count": 54,
   "metadata": {},
   "outputs": [
    {
     "name": "stdout",
     "output_type": "stream",
     "text": [
      "1\n",
      "2\n",
      "3\n",
      "4\n",
      "5\n",
      "6\n"
     ]
    }
   ],
   "source": [
    "# change this code\n",
    "number = 999\n",
    "second_number = 0\n",
    "first_array = [1,2,3]\n",
    "second_array = [1,2]\n",
    "\n",
    "if number > 15:\n",
    "    print(\"1\")\n",
    "\n",
    "if first_array:\n",
    "    print(\"2\")\n",
    "\n",
    "if len(second_array) == 2:\n",
    "    print(\"3\")\n",
    "\n",
    "if len(first_array) + len(second_array) == 5:\n",
    "    print(\"4\")\n",
    "\n",
    "if first_array and first_array[0] == 1:\n",
    "    print(\"5\")\n",
    "\n",
    "if not second_number:\n",
    "    print(\"6\")"
   ]
  },
  {
   "cell_type": "markdown",
   "metadata": {},
   "source": [
    "### Loops"
   ]
  },
  {
   "cell_type": "code",
   "execution_count": 55,
   "metadata": {},
   "outputs": [
    {
     "name": "stdout",
     "output_type": "stream",
     "text": [
      "2\n",
      "3\n",
      "5\n",
      "7\n"
     ]
    }
   ],
   "source": [
    "primes = [2,3,5,7]\n",
    "for prime in primes:\n",
    "    print(prime)"
   ]
  },
  {
   "cell_type": "code",
   "execution_count": 56,
   "metadata": {},
   "outputs": [
    {
     "name": "stdout",
     "output_type": "stream",
     "text": [
      "0\n",
      "1\n",
      "2\n",
      "3\n",
      "4\n",
      "3\n",
      "4\n",
      "5\n",
      "3\n",
      "5\n",
      "7\n"
     ]
    }
   ],
   "source": [
    "for x in range(5):\n",
    "    print(x)\n",
    "\n",
    "for x in range(3,6):\n",
    "    print(x)\n",
    "\n",
    "for x in range(3,8,2):\n",
    "    print(x)"
   ]
  },
  {
   "cell_type": "code",
   "execution_count": 57,
   "metadata": {},
   "outputs": [
    {
     "name": "stdout",
     "output_type": "stream",
     "text": [
      "0\n",
      "1\n",
      "2\n",
      "3\n",
      "4\n"
     ]
    }
   ],
   "source": [
    "count = 0\n",
    "while count < 5:\n",
    "    print(count)\n",
    "    count+=1"
   ]
  },
  {
   "cell_type": "code",
   "execution_count": 58,
   "metadata": {},
   "outputs": [
    {
     "name": "stdout",
     "output_type": "stream",
     "text": [
      "0\n",
      "1\n",
      "2\n",
      "3\n",
      "4\n",
      "1\n",
      "3\n",
      "5\n",
      "7\n",
      "9\n"
     ]
    }
   ],
   "source": [
    "count = 0\n",
    "while True:\n",
    "    print(count)\n",
    "    count+=1\n",
    "    if count>=5:\n",
    "        break\n",
    "\n",
    "for x in range(10):\n",
    "    if x%2==0:\n",
    "        continue;\n",
    "    print(x)"
   ]
  },
  {
   "cell_type": "code",
   "execution_count": 59,
   "metadata": {},
   "outputs": [
    {
     "name": "stdout",
     "output_type": "stream",
     "text": [
      "0\n",
      "1\n",
      "2\n",
      "3\n",
      "4\n",
      "count value reached 5\n",
      "1\n",
      "2\n",
      "3\n",
      "4\n"
     ]
    }
   ],
   "source": [
    "count = 0\n",
    "while(count<5):\n",
    "    print(count)\n",
    "    count+=1\n",
    "else:\n",
    "    print(\"count value reached %d\" %(count))\n",
    "\n",
    "for i in range(1,10):\n",
    "    if(i%5==0):\n",
    "        break\n",
    "    print(i)\n",
    "else:\n",
    "    print(\"this is not printed because for loop is terminated because of break but not due to fail in condition\")"
   ]
  },
  {
   "cell_type": "code",
   "execution_count": 61,
   "metadata": {},
   "outputs": [
    {
     "name": "stdout",
     "output_type": "stream",
     "text": [
      "402\n",
      "984\n",
      "360\n",
      "408\n",
      "980\n",
      "544\n",
      "390\n",
      "984\n",
      "592\n",
      "236\n",
      "942\n",
      "386\n",
      "462\n",
      "418\n",
      "344\n",
      "236\n",
      "566\n",
      "978\n",
      "328\n",
      "162\n",
      "758\n",
      "918\n"
     ]
    }
   ],
   "source": [
    "numbers = [\n",
    "    951, 402, 984, 651, 360, 69, 408, 319, 601, 485, 980, 507, 725, 547, 544,\n",
    "    615, 83, 165, 141, 501, 263, 617, 865, 575, 219, 390, 984, 592, 236, 105, 942, 941,\n",
    "    386, 462, 47, 418, 907, 344, 236, 375, 823, 566, 597, 978, 328, 615, 953, 345,\n",
    "    399, 162, 758, 219, 918, 237, 412, 566, 826, 248, 866, 950, 626, 949, 687, 217,\n",
    "    815, 67, 104, 58, 512, 24, 892, 894, 767, 553, 81, 379, 843, 831, 445, 742, 717,\n",
    "    958, 609, 842, 451, 688, 753, 854, 685, 93, 857, 440, 380, 126, 721, 328, 753, 470,\n",
    "    743, 527\n",
    "]\n",
    "\n",
    "for number in numbers:\n",
    "    if number == 237:\n",
    "        break\n",
    "    if number%2==0:\n",
    "        print(number)\n"
   ]
  },
  {
   "cell_type": "markdown",
   "metadata": {},
   "source": [
    "### Functions"
   ]
  },
  {
   "cell_type": "code",
   "execution_count": 62,
   "metadata": {},
   "outputs": [],
   "source": [
    "def my_function():\n",
    "    print(\"Hello from my function!\")"
   ]
  },
  {
   "cell_type": "code",
   "execution_count": null,
   "metadata": {},
   "outputs": [],
   "source": [
    "def my_function_with_args(username,greeting):\n",
    "    print(\"Hello, %s, From my function!, I wish you %s\"%(username,greeting))"
   ]
  },
  {
   "cell_type": "code",
   "execution_count": 63,
   "metadata": {},
   "outputs": [],
   "source": [
    "def sum_two_numbers(a, b):\n",
    "    return a + b"
   ]
  },
  {
   "cell_type": "code",
   "execution_count": 64,
   "metadata": {},
   "outputs": [
    {
     "name": "stdout",
     "output_type": "stream",
     "text": [
      "Hello From My Function!\n",
      "Hello, John Doe, From My Function!, I wish you a great year!\n"
     ]
    }
   ],
   "source": [
    "def my_function():\n",
    "    print(\"Hello From My Function!\")\n",
    "\n",
    "def my_function_with_args(username, greeting):\n",
    "    print(\"Hello, %s, From My Function!, I wish you %s\"%(username, greeting))\n",
    "\n",
    "def sum_two_numbers(a, b):\n",
    "    return a + b\n",
    "\n",
    "my_function()\n",
    "\n",
    "my_function_with_args(\"John Doe\", \"a great year!\")\n",
    "\n",
    "x = sum_two_numbers(1,2)"
   ]
  },
  {
   "cell_type": "code",
   "execution_count": 67,
   "metadata": {},
   "outputs": [
    {
     "name": "stdout",
     "output_type": "stream",
     "text": [
      "More organized code is a benefit of functions!\n",
      "More readable code is a benefit of functions!\n",
      "Easier code reuse is a benefit of functions!\n",
      "Allowing programmers to share and connect code together is a benefit of functions!\n"
     ]
    }
   ],
   "source": [
    "def list_benefits():\n",
    "    return [\"More organized code\", \"More readable code\", \"Easier code reuse\", \"Allowing programmers to share and connect code together\"]\n",
    "\n",
    "def build_sentence(benefit):\n",
    "    return \"%s is a benefit of functions!\" % benefit\n",
    "\n",
    "def name_the_benefits_of_functions():\n",
    "    list_of_benefits = list_benefits()\n",
    "    for benefit in list_of_benefits:\n",
    "        print(build_sentence(benefit))\n",
    "\n",
    "name_the_benefits_of_functions()"
   ]
  },
  {
   "cell_type": "markdown",
   "metadata": {},
   "source": [
    "### Classes and Objects"
   ]
  },
  {
   "cell_type": "code",
   "execution_count": 68,
   "metadata": {},
   "outputs": [],
   "source": [
    "class myClass:\n",
    "    variable = \"bleh\"\n",
    "\n",
    "    def function(self):\n",
    "        print(\"This is a message inside the class.\")"
   ]
  },
  {
   "cell_type": "code",
   "execution_count": 69,
   "metadata": {},
   "outputs": [],
   "source": [
    "class MyClass:\n",
    "    variable = \"bleh\"\n",
    "\n",
    "    def function(self):\n",
    "        print(\"This is a message inside the class.\")\n",
    "\n",
    "myobject = MyClass()"
   ]
  },
  {
   "cell_type": "code",
   "execution_count": 70,
   "metadata": {},
   "outputs": [
    {
     "data": {
      "text/plain": [
       "'bleh'"
      ]
     },
     "execution_count": 70,
     "metadata": {},
     "output_type": "execute_result"
    }
   ],
   "source": [
    "class MyClass:\n",
    "    variable = \"bleh\"\n",
    "\n",
    "    def function(self):\n",
    "        print(\"This is a message inside the class.\")\n",
    "\n",
    "myobject = MyClass()\n",
    "\n",
    "myobject.variable"
   ]
  },
  {
   "cell_type": "code",
   "execution_count": 71,
   "metadata": {},
   "outputs": [
    {
     "name": "stdout",
     "output_type": "stream",
     "text": [
      "bleh\n"
     ]
    }
   ],
   "source": [
    "class MyClass:\n",
    "    variable = \"bleh\"\n",
    "\n",
    "    def function(self):\n",
    "        print(\"This is a message inside the class.\")\n",
    "\n",
    "myobject = MyClass()\n",
    "\n",
    "print(myobject.variable)"
   ]
  },
  {
   "cell_type": "code",
   "execution_count": 73,
   "metadata": {},
   "outputs": [
    {
     "name": "stdout",
     "output_type": "stream",
     "text": [
      "bleh\n",
      "yackity\n"
     ]
    }
   ],
   "source": [
    "class MyClass:\n",
    "    variable = \"bleh\"\n",
    "\n",
    "    def function(self):\n",
    "        print(\"This is a message inside the class.\")\n",
    "\n",
    "myobjectx = MyClass()\n",
    "myobjecty = MyClass()\n",
    "\n",
    "myobjecty.variable = \"yackity\"\n",
    "\n",
    "# Then print out both values\n",
    "print(myobjectx.variable)\n",
    "print(myobjecty.variable)"
   ]
  },
  {
   "cell_type": "code",
   "execution_count": 74,
   "metadata": {},
   "outputs": [
    {
     "name": "stdout",
     "output_type": "stream",
     "text": [
      "This is a message inside the class.\n"
     ]
    }
   ],
   "source": [
    "class MyClass:\n",
    "    variable = \"bleh\"\n",
    "\n",
    "    def function(self):\n",
    "        print(\"This is a message inside the class.\")\n",
    "\n",
    "myobject = MyClass()\n",
    "\n",
    "myobject.function()"
   ]
  },
  {
   "cell_type": "code",
   "execution_count": 75,
   "metadata": {},
   "outputs": [
    {
     "name": "stdout",
     "output_type": "stream",
     "text": [
      "7\n"
     ]
    }
   ],
   "source": [
    "class NumberHolder:\n",
    "\n",
    "   def __init__(self, number):\n",
    "       self.number = number\n",
    "\n",
    "   def returnNumber(self):\n",
    "       return self.number\n",
    "\n",
    "var = NumberHolder(7)\n",
    "print(var.returnNumber())"
   ]
  },
  {
   "cell_type": "code",
   "execution_count": 76,
   "metadata": {},
   "outputs": [
    {
     "name": "stdout",
     "output_type": "stream",
     "text": [
      "Ford F250 is a red convertible worth $60000.00.\n",
      "E-Series is a Blue van worth $10000.00.\n"
     ]
    }
   ],
   "source": [
    "class Vehicle:\n",
    "    name = \"\"\n",
    "    kind = \"car\"\n",
    "    color = \"\"\n",
    "    value = 100.00\n",
    "    def description(self):\n",
    "        desc_str = \"%s is a %s %s worth $%.2f.\" % (self.name, self.color, self.kind, self.value)\n",
    "        return desc_str\n",
    "\n",
    "# your code goes here\n",
    "car1 = Vehicle()\n",
    "car1.name = \"Ford F250\"\n",
    "car1.color = \"red\"\n",
    "car1.kind = \"convertible\"\n",
    "car1.value = 60000.00\n",
    "\n",
    "car2 = Vehicle()\n",
    "car2.name = \"E-Series\"\n",
    "car2.color = \"Blue\"\n",
    "car2.kind = \"van\"\n",
    "car2.value = 10000.00\n",
    "\n",
    "\n",
    "print(car1.description())\n",
    "print(car2.description())"
   ]
  },
  {
   "cell_type": "markdown",
   "metadata": {},
   "source": [
    "### Dictionaries"
   ]
  },
  {
   "cell_type": "code",
   "execution_count": 77,
   "metadata": {},
   "outputs": [
    {
     "name": "stdout",
     "output_type": "stream",
     "text": [
      "{'John': 938477566, 'Jack': 938377264, 'Jill': 947662781}\n"
     ]
    }
   ],
   "source": [
    "phonebook = {}\n",
    "phonebook[\"John\"] = 938477566\n",
    "phonebook[\"Jack\"] = 938377264\n",
    "phonebook[\"Jill\"] = 947662781\n",
    "print(phonebook)"
   ]
  },
  {
   "cell_type": "code",
   "execution_count": 78,
   "metadata": {},
   "outputs": [
    {
     "name": "stdout",
     "output_type": "stream",
     "text": [
      "{'John': 938477566, 'Jack': 938377264, 'Jill': 947662781}\n"
     ]
    }
   ],
   "source": [
    "phonebook = {\n",
    "    \"John\":938477566,\n",
    "    \"Jack\":938377264,\n",
    "    \"Jill\":947662781\n",
    "}\n",
    "print(phonebook)"
   ]
  },
  {
   "cell_type": "code",
   "execution_count": 79,
   "metadata": {},
   "outputs": [
    {
     "name": "stdout",
     "output_type": "stream",
     "text": [
      "Phone number of John is 938477566\n",
      "Phone number of Jack is 938377264\n",
      "Phone number of Jill is 947662781\n"
     ]
    }
   ],
   "source": [
    "phonebook = {\"John\" : 938477566,\"Jack\" : 938377264,\"Jill\" : 947662781}\n",
    "for name, number in phonebook.items():\n",
    "    print(\"Phone number of %s is %d\"%(name,number))"
   ]
  },
  {
   "cell_type": "code",
   "execution_count": 80,
   "metadata": {},
   "outputs": [
    {
     "name": "stdout",
     "output_type": "stream",
     "text": [
      "{'Jack': 938377264, 'Jill': 947662781}\n"
     ]
    }
   ],
   "source": [
    "phonebook = {\n",
    "   \"John\" : 938477566,\n",
    "   \"Jack\" : 938377264,\n",
    "   \"Jill\" : 947662781\n",
    "}\n",
    "del phonebook[\"John\"]\n",
    "print(phonebook)"
   ]
  },
  {
   "cell_type": "code",
   "execution_count": 81,
   "metadata": {},
   "outputs": [
    {
     "name": "stdout",
     "output_type": "stream",
     "text": [
      "{'Jack': 938377264, 'Jill': 947662781}\n"
     ]
    }
   ],
   "source": [
    "phonebook = {\n",
    "   \"John\" : 938477566,\n",
    "   \"Jack\" : 938377264,\n",
    "   \"Jill\" : 947662781\n",
    "}\n",
    "phonebook.pop(\"John\")\n",
    "print(phonebook)"
   ]
  },
  {
   "cell_type": "code",
   "execution_count": 83,
   "metadata": {},
   "outputs": [
    {
     "name": "stdout",
     "output_type": "stream",
     "text": [
      "Jake is listed in the phonebook.\n",
      "Jill is not listed in the phonebook.\n"
     ]
    }
   ],
   "source": [
    "phonebook = {  \n",
    "    \"John\" : 938477566,\n",
    "    \"Jack\" : 938377264,\n",
    "    \"Jill\" : 947662781\n",
    "}  \n",
    "\n",
    "phonebook[\"Jake\"] = 938273443\n",
    "del phonebook[\"Jill\"]\n",
    "\n",
    "\n",
    "if \"Jake\" in phonebook:  \n",
    "    print(\"Jake is listed in the phonebook.\")\n",
    "    \n",
    "if \"Jill\" not in phonebook:      \n",
    "    print(\"Jill is not listed in the phonebook.\")"
   ]
  },
  {
   "cell_type": "markdown",
   "metadata": {},
   "source": [
    "### Modules and Packages "
   ]
  },
  {
   "cell_type": "code",
   "execution_count": 86,
   "metadata": {},
   "outputs": [],
   "source": [
    "# game.py\n",
    "# import the draw module\n",
    "from draw import draw_game\n",
    "from game import play_game\n",
    "\n",
    "def main():\n",
    "    result = play_game()\n",
    "    draw_game(result)"
   ]
  },
  {
   "cell_type": "code",
   "execution_count": 87,
   "metadata": {},
   "outputs": [],
   "source": [
    "# game.py\n",
    "# import the draw module\n",
    "from draw import *\n",
    "\n",
    "def main():\n",
    "    result = play_game()\n",
    "    draw_game(result)"
   ]
  },
  {
   "cell_type": "code",
   "execution_count": 90,
   "metadata": {},
   "outputs": [],
   "source": [
    "# game.py\n",
    "import draw\n",
    "visual_mode = True\n",
    "# import the draw module\n",
    "if visual_mode:\n",
    "    # in visual mode, we draw using graphics\n",
    "    import draw_visual as draw\n",
    "else:\n",
    "    # in textual mode, we print out text\n",
    "    import draw_textual as draw\n",
    "\n",
    "def main():\n",
    "    result = play_game()\n",
    "    # this can either be visual or textual depending on visual_mode\n",
    "    draw.draw_game(result)"
   ]
  },
  {
   "cell_type": "code",
   "execution_count": 91,
   "metadata": {},
   "outputs": [
    {
     "data": {
      "text/plain": [
       "['__builtins__',\n",
       " '__cached__',\n",
       " '__doc__',\n",
       " '__file__',\n",
       " '__loader__',\n",
       " '__name__',\n",
       " '__package__',\n",
       " '__path__',\n",
       " '__spec__',\n",
       " 'error',\n",
       " 'parse',\n",
       " 'request',\n",
       " 'response']"
      ]
     },
     "execution_count": 91,
     "metadata": {},
     "output_type": "execute_result"
    }
   ],
   "source": [
    "import urllib\n",
    "dir(urllib)"
   ]
  },
  {
   "cell_type": "code",
   "execution_count": 94,
   "metadata": {},
   "outputs": [
    {
     "name": "stdout",
     "output_type": "stream",
     "text": [
      "Help on module urllib.request in urllib:\n",
      "\n",
      "NAME\n",
      "    urllib.request - An extensible library for opening URLs using a variety of protocols\n",
      "\n",
      "MODULE REFERENCE\n",
      "    https://docs.python.org/3.10/library/urllib.request.html\n",
      "    \n",
      "    The following documentation is automatically generated from the Python\n",
      "    source files.  It may be incomplete, incorrect or include features that\n",
      "    are considered implementation detail and may vary between Python\n",
      "    implementations.  When in doubt, consult the module reference at the\n",
      "    location listed above.\n",
      "\n",
      "DESCRIPTION\n",
      "    The simplest way to use this module is to call the urlopen function,\n",
      "    which accepts a string containing a URL or a Request object (described\n",
      "    below).  It opens the URL and returns the results as file-like\n",
      "    object; the returned object has some extra methods described below.\n",
      "    \n",
      "    The OpenerDirector manages a collection of Handler objects that do\n",
      "    all the actual work.  Each Handler implements a particular protocol or\n",
      "    option.  The OpenerDirector is a composite object that invokes the\n",
      "    Handlers needed to open the requested URL.  For example, the\n",
      "    HTTPHandler performs HTTP GET and POST requests and deals with\n",
      "    non-error returns.  The HTTPRedirectHandler automatically deals with\n",
      "    HTTP 301, 302, 303 and 307 redirect errors, and the HTTPDigestAuthHandler\n",
      "    deals with digest authentication.\n",
      "    \n",
      "    urlopen(url, data=None) -- Basic usage is the same as original\n",
      "    urllib.  pass the url and optionally data to post to an HTTP URL, and\n",
      "    get a file-like object back.  One difference is that you can also pass\n",
      "    a Request instance instead of URL.  Raises a URLError (subclass of\n",
      "    OSError); for HTTP errors, raises an HTTPError, which can also be\n",
      "    treated as a valid response.\n",
      "    \n",
      "    build_opener -- Function that creates a new OpenerDirector instance.\n",
      "    Will install the default handlers.  Accepts one or more Handlers as\n",
      "    arguments, either instances or Handler classes that it will\n",
      "    instantiate.  If one of the argument is a subclass of the default\n",
      "    handler, the argument will be installed instead of the default.\n",
      "    \n",
      "    install_opener -- Installs a new opener as the default opener.\n",
      "    \n",
      "    objects of interest:\n",
      "    \n",
      "    OpenerDirector -- Sets up the User Agent as the Python-urllib client and manages\n",
      "    the Handler classes, while dealing with requests and responses.\n",
      "    \n",
      "    Request -- An object that encapsulates the state of a request.  The\n",
      "    state can be as simple as the URL.  It can also include extra HTTP\n",
      "    headers, e.g. a User-Agent.\n",
      "    \n",
      "    BaseHandler --\n",
      "    \n",
      "    internals:\n",
      "    BaseHandler and parent\n",
      "    _call_chain conventions\n",
      "    \n",
      "    Example usage:\n",
      "    \n",
      "    import urllib.request\n",
      "    \n",
      "    # set up authentication info\n",
      "    authinfo = urllib.request.HTTPBasicAuthHandler()\n",
      "    authinfo.add_password(realm='PDQ Application',\n",
      "                          uri='https://mahler:8092/site-updates.py',\n",
      "                          user='klem',\n",
      "                          passwd='geheim$parole')\n",
      "    \n",
      "    proxy_support = urllib.request.ProxyHandler({\"http\" : \"http://ahad-haam:3128\"})\n",
      "    \n",
      "    # build a new opener that adds authentication and caching FTP handlers\n",
      "    opener = urllib.request.build_opener(proxy_support, authinfo,\n",
      "                                         urllib.request.CacheFTPHandler)\n",
      "    \n",
      "    # install it\n",
      "    urllib.request.install_opener(opener)\n",
      "    \n",
      "    f = urllib.request.urlopen('https://www.python.org/')\n",
      "\n",
      "CLASSES\n",
      "    builtins.object\n",
      "        AbstractBasicAuthHandler\n",
      "            HTTPBasicAuthHandler(AbstractBasicAuthHandler, BaseHandler)\n",
      "            ProxyBasicAuthHandler(AbstractBasicAuthHandler, BaseHandler)\n",
      "        AbstractDigestAuthHandler\n",
      "        BaseHandler\n",
      "            DataHandler\n",
      "            FTPHandler\n",
      "                CacheFTPHandler\n",
      "            FileHandler\n",
      "            HTTPCookieProcessor\n",
      "            HTTPDefaultErrorHandler\n",
      "            HTTPDigestAuthHandler(BaseHandler, AbstractDigestAuthHandler)\n",
      "            HTTPErrorProcessor\n",
      "            HTTPRedirectHandler\n",
      "            ProxyDigestAuthHandler(BaseHandler, AbstractDigestAuthHandler)\n",
      "            ProxyHandler\n",
      "            UnknownHandler\n",
      "        HTTPPasswordMgr\n",
      "            HTTPPasswordMgrWithDefaultRealm\n",
      "                HTTPPasswordMgrWithPriorAuth\n",
      "        OpenerDirector\n",
      "        Request\n",
      "        URLopener\n",
      "            FancyURLopener\n",
      "    AbstractHTTPHandler(BaseHandler)\n",
      "        HTTPHandler\n",
      "        HTTPSHandler\n",
      "    \n",
      "    class AbstractBasicAuthHandler(builtins.object)\n",
      "     |  AbstractBasicAuthHandler(password_mgr=None)\n",
      "     |  \n",
      "     |  Methods defined here:\n",
      "     |  \n",
      "     |  __init__(self, password_mgr=None)\n",
      "     |      Initialize self.  See help(type(self)) for accurate signature.\n",
      "     |  \n",
      "     |  http_error_auth_reqed(self, authreq, host, req, headers)\n",
      "     |  \n",
      "     |  http_request(self, req)\n",
      "     |  \n",
      "     |  http_response(self, req, response)\n",
      "     |  \n",
      "     |  https_request = http_request(self, req)\n",
      "     |  \n",
      "     |  https_response = http_response(self, req, response)\n",
      "     |  \n",
      "     |  retry_http_basic_auth(self, host, req, realm)\n",
      "     |  \n",
      "     |  ----------------------------------------------------------------------\n",
      "     |  Data descriptors defined here:\n",
      "     |  \n",
      "     |  __dict__\n",
      "     |      dictionary for instance variables (if defined)\n",
      "     |  \n",
      "     |  __weakref__\n",
      "     |      list of weak references to the object (if defined)\n",
      "     |  \n",
      "     |  ----------------------------------------------------------------------\n",
      "     |  Data and other attributes defined here:\n",
      "     |  \n",
      "     |  rx = re.compile('(?:^|,)[ \\t]*([^ \\t,]+)[ \\t]+realm=([\"\\']?)([^\"\\']*)\\...\n",
      "    \n",
      "    class AbstractDigestAuthHandler(builtins.object)\n",
      "     |  AbstractDigestAuthHandler(passwd=None)\n",
      "     |  \n",
      "     |  Methods defined here:\n",
      "     |  \n",
      "     |  __init__(self, passwd=None)\n",
      "     |      Initialize self.  See help(type(self)) for accurate signature.\n",
      "     |  \n",
      "     |  get_algorithm_impls(self, algorithm)\n",
      "     |  \n",
      "     |  get_authorization(self, req, chal)\n",
      "     |  \n",
      "     |  get_cnonce(self, nonce)\n",
      "     |  \n",
      "     |  get_entity_digest(self, data, chal)\n",
      "     |  \n",
      "     |  http_error_auth_reqed(self, auth_header, host, req, headers)\n",
      "     |  \n",
      "     |  reset_retry_count(self)\n",
      "     |  \n",
      "     |  retry_http_digest_auth(self, req, auth)\n",
      "     |  \n",
      "     |  ----------------------------------------------------------------------\n",
      "     |  Data descriptors defined here:\n",
      "     |  \n",
      "     |  __dict__\n",
      "     |      dictionary for instance variables (if defined)\n",
      "     |  \n",
      "     |  __weakref__\n",
      "     |      list of weak references to the object (if defined)\n",
      "    \n",
      "    class BaseHandler(builtins.object)\n",
      "     |  Methods defined here:\n",
      "     |  \n",
      "     |  __lt__(self, other)\n",
      "     |      Return self<value.\n",
      "     |  \n",
      "     |  add_parent(self, parent)\n",
      "     |  \n",
      "     |  close(self)\n",
      "     |  \n",
      "     |  ----------------------------------------------------------------------\n",
      "     |  Data descriptors defined here:\n",
      "     |  \n",
      "     |  __dict__\n",
      "     |      dictionary for instance variables (if defined)\n",
      "     |  \n",
      "     |  __weakref__\n",
      "     |      list of weak references to the object (if defined)\n",
      "     |  \n",
      "     |  ----------------------------------------------------------------------\n",
      "     |  Data and other attributes defined here:\n",
      "     |  \n",
      "     |  handler_order = 500\n",
      "    \n",
      "    class CacheFTPHandler(FTPHandler)\n",
      "     |  Method resolution order:\n",
      "     |      CacheFTPHandler\n",
      "     |      FTPHandler\n",
      "     |      BaseHandler\n",
      "     |      builtins.object\n",
      "     |  \n",
      "     |  Methods defined here:\n",
      "     |  \n",
      "     |  __init__(self)\n",
      "     |      Initialize self.  See help(type(self)) for accurate signature.\n",
      "     |  \n",
      "     |  check_cache(self)\n",
      "     |  \n",
      "     |  clear_cache(self)\n",
      "     |  \n",
      "     |  connect_ftp(self, user, passwd, host, port, dirs, timeout)\n",
      "     |  \n",
      "     |  setMaxConns(self, m)\n",
      "     |  \n",
      "     |  setTimeout(self, t)\n",
      "     |  \n",
      "     |  ----------------------------------------------------------------------\n",
      "     |  Methods inherited from FTPHandler:\n",
      "     |  \n",
      "     |  ftp_open(self, req)\n",
      "     |  \n",
      "     |  ----------------------------------------------------------------------\n",
      "     |  Methods inherited from BaseHandler:\n",
      "     |  \n",
      "     |  __lt__(self, other)\n",
      "     |      Return self<value.\n",
      "     |  \n",
      "     |  add_parent(self, parent)\n",
      "     |  \n",
      "     |  close(self)\n",
      "     |  \n",
      "     |  ----------------------------------------------------------------------\n",
      "     |  Data descriptors inherited from BaseHandler:\n",
      "     |  \n",
      "     |  __dict__\n",
      "     |      dictionary for instance variables (if defined)\n",
      "     |  \n",
      "     |  __weakref__\n",
      "     |      list of weak references to the object (if defined)\n",
      "     |  \n",
      "     |  ----------------------------------------------------------------------\n",
      "     |  Data and other attributes inherited from BaseHandler:\n",
      "     |  \n",
      "     |  handler_order = 500\n",
      "    \n",
      "    class DataHandler(BaseHandler)\n",
      "     |  Method resolution order:\n",
      "     |      DataHandler\n",
      "     |      BaseHandler\n",
      "     |      builtins.object\n",
      "     |  \n",
      "     |  Methods defined here:\n",
      "     |  \n",
      "     |  data_open(self, req)\n",
      "     |  \n",
      "     |  ----------------------------------------------------------------------\n",
      "     |  Methods inherited from BaseHandler:\n",
      "     |  \n",
      "     |  __lt__(self, other)\n",
      "     |      Return self<value.\n",
      "     |  \n",
      "     |  add_parent(self, parent)\n",
      "     |  \n",
      "     |  close(self)\n",
      "     |  \n",
      "     |  ----------------------------------------------------------------------\n",
      "     |  Data descriptors inherited from BaseHandler:\n",
      "     |  \n",
      "     |  __dict__\n",
      "     |      dictionary for instance variables (if defined)\n",
      "     |  \n",
      "     |  __weakref__\n",
      "     |      list of weak references to the object (if defined)\n",
      "     |  \n",
      "     |  ----------------------------------------------------------------------\n",
      "     |  Data and other attributes inherited from BaseHandler:\n",
      "     |  \n",
      "     |  handler_order = 500\n",
      "    \n",
      "    class FTPHandler(BaseHandler)\n",
      "     |  Method resolution order:\n",
      "     |      FTPHandler\n",
      "     |      BaseHandler\n",
      "     |      builtins.object\n",
      "     |  \n",
      "     |  Methods defined here:\n",
      "     |  \n",
      "     |  connect_ftp(self, user, passwd, host, port, dirs, timeout)\n",
      "     |  \n",
      "     |  ftp_open(self, req)\n",
      "     |  \n",
      "     |  ----------------------------------------------------------------------\n",
      "     |  Methods inherited from BaseHandler:\n",
      "     |  \n",
      "     |  __lt__(self, other)\n",
      "     |      Return self<value.\n",
      "     |  \n",
      "     |  add_parent(self, parent)\n",
      "     |  \n",
      "     |  close(self)\n",
      "     |  \n",
      "     |  ----------------------------------------------------------------------\n",
      "     |  Data descriptors inherited from BaseHandler:\n",
      "     |  \n",
      "     |  __dict__\n",
      "     |      dictionary for instance variables (if defined)\n",
      "     |  \n",
      "     |  __weakref__\n",
      "     |      list of weak references to the object (if defined)\n",
      "     |  \n",
      "     |  ----------------------------------------------------------------------\n",
      "     |  Data and other attributes inherited from BaseHandler:\n",
      "     |  \n",
      "     |  handler_order = 500\n",
      "    \n",
      "    class FancyURLopener(URLopener)\n",
      "     |  FancyURLopener(*args, **kwargs)\n",
      "     |  \n",
      "     |  Derived class with handlers for errors we can handle (perhaps).\n",
      "     |  \n",
      "     |  Method resolution order:\n",
      "     |      FancyURLopener\n",
      "     |      URLopener\n",
      "     |      builtins.object\n",
      "     |  \n",
      "     |  Methods defined here:\n",
      "     |  \n",
      "     |  __init__(self, *args, **kwargs)\n",
      "     |      Initialize self.  See help(type(self)) for accurate signature.\n",
      "     |  \n",
      "     |  get_user_passwd(self, host, realm, clear_cache=0)\n",
      "     |  \n",
      "     |  http_error_301(self, url, fp, errcode, errmsg, headers, data=None)\n",
      "     |      Error 301 -- also relocated (permanently).\n",
      "     |  \n",
      "     |  http_error_302(self, url, fp, errcode, errmsg, headers, data=None)\n",
      "     |      Error 302 -- relocated (temporarily).\n",
      "     |  \n",
      "     |  http_error_303(self, url, fp, errcode, errmsg, headers, data=None)\n",
      "     |      Error 303 -- also relocated (essentially identical to 302).\n",
      "     |  \n",
      "     |  http_error_307(self, url, fp, errcode, errmsg, headers, data=None)\n",
      "     |      Error 307 -- relocated, but turn POST into error.\n",
      "     |  \n",
      "     |  http_error_401(self, url, fp, errcode, errmsg, headers, data=None, retry=False)\n",
      "     |      Error 401 -- authentication required.\n",
      "     |      This function supports Basic authentication only.\n",
      "     |  \n",
      "     |  http_error_407(self, url, fp, errcode, errmsg, headers, data=None, retry=False)\n",
      "     |      Error 407 -- proxy authentication required.\n",
      "     |      This function supports Basic authentication only.\n",
      "     |  \n",
      "     |  http_error_default(self, url, fp, errcode, errmsg, headers)\n",
      "     |      Default error handling -- don't raise an exception.\n",
      "     |  \n",
      "     |  prompt_user_passwd(self, host, realm)\n",
      "     |      Override this in a GUI environment!\n",
      "     |  \n",
      "     |  redirect_internal(self, url, fp, errcode, errmsg, headers, data)\n",
      "     |  \n",
      "     |  retry_http_basic_auth(self, url, realm, data=None)\n",
      "     |  \n",
      "     |  retry_https_basic_auth(self, url, realm, data=None)\n",
      "     |  \n",
      "     |  retry_proxy_http_basic_auth(self, url, realm, data=None)\n",
      "     |  \n",
      "     |  retry_proxy_https_basic_auth(self, url, realm, data=None)\n",
      "     |  \n",
      "     |  ----------------------------------------------------------------------\n",
      "     |  Methods inherited from URLopener:\n",
      "     |  \n",
      "     |  __del__(self)\n",
      "     |  \n",
      "     |  addheader(self, *args)\n",
      "     |      Add a header to be used by the HTTP interface only\n",
      "     |      e.g. u.addheader('Accept', 'sound/basic')\n",
      "     |  \n",
      "     |  cleanup(self)\n",
      "     |  \n",
      "     |  close(self)\n",
      "     |  \n",
      "     |  http_error(self, url, fp, errcode, errmsg, headers, data=None)\n",
      "     |      Handle http errors.\n",
      "     |      \n",
      "     |      Derived class can override this, or provide specific handlers\n",
      "     |      named http_error_DDD where DDD is the 3-digit error code.\n",
      "     |  \n",
      "     |  open(self, fullurl, data=None)\n",
      "     |      Use URLopener().open(file) instead of open(file, 'r').\n",
      "     |  \n",
      "     |  open_data(self, url, data=None)\n",
      "     |      Use \"data\" URL.\n",
      "     |  \n",
      "     |  open_file(self, url)\n",
      "     |      Use local file or FTP depending on form of URL.\n",
      "     |  \n",
      "     |  open_ftp(self, url)\n",
      "     |      Use FTP protocol.\n",
      "     |  \n",
      "     |  open_http(self, url, data=None)\n",
      "     |      Use HTTP protocol.\n",
      "     |  \n",
      "     |  open_https(self, url, data=None)\n",
      "     |      Use HTTPS protocol.\n",
      "     |  \n",
      "     |  open_local_file(self, url)\n",
      "     |      Use local file.\n",
      "     |  \n",
      "     |  open_unknown(self, fullurl, data=None)\n",
      "     |      Overridable interface to open unknown URL type.\n",
      "     |  \n",
      "     |  open_unknown_proxy(self, proxy, fullurl, data=None)\n",
      "     |      Overridable interface to open unknown URL type.\n",
      "     |  \n",
      "     |  retrieve(self, url, filename=None, reporthook=None, data=None)\n",
      "     |      retrieve(url) returns (filename, headers) for a local object\n",
      "     |      or (tempfilename, headers) for a remote object.\n",
      "     |  \n",
      "     |  ----------------------------------------------------------------------\n",
      "     |  Data descriptors inherited from URLopener:\n",
      "     |  \n",
      "     |  __dict__\n",
      "     |      dictionary for instance variables (if defined)\n",
      "     |  \n",
      "     |  __weakref__\n",
      "     |      list of weak references to the object (if defined)\n",
      "     |  \n",
      "     |  ----------------------------------------------------------------------\n",
      "     |  Data and other attributes inherited from URLopener:\n",
      "     |  \n",
      "     |  version = 'Python-urllib/3.10'\n",
      "    \n",
      "    class FileHandler(BaseHandler)\n",
      "     |  Method resolution order:\n",
      "     |      FileHandler\n",
      "     |      BaseHandler\n",
      "     |      builtins.object\n",
      "     |  \n",
      "     |  Methods defined here:\n",
      "     |  \n",
      "     |  file_open(self, req)\n",
      "     |      # Use local file or FTP depending on form of URL\n",
      "     |  \n",
      "     |  get_names(self)\n",
      "     |  \n",
      "     |  open_local_file(self, req)\n",
      "     |      # not entirely sure what the rules are here\n",
      "     |  \n",
      "     |  ----------------------------------------------------------------------\n",
      "     |  Data and other attributes defined here:\n",
      "     |  \n",
      "     |  names = None\n",
      "     |  \n",
      "     |  ----------------------------------------------------------------------\n",
      "     |  Methods inherited from BaseHandler:\n",
      "     |  \n",
      "     |  __lt__(self, other)\n",
      "     |      Return self<value.\n",
      "     |  \n",
      "     |  add_parent(self, parent)\n",
      "     |  \n",
      "     |  close(self)\n",
      "     |  \n",
      "     |  ----------------------------------------------------------------------\n",
      "     |  Data descriptors inherited from BaseHandler:\n",
      "     |  \n",
      "     |  __dict__\n",
      "     |      dictionary for instance variables (if defined)\n",
      "     |  \n",
      "     |  __weakref__\n",
      "     |      list of weak references to the object (if defined)\n",
      "     |  \n",
      "     |  ----------------------------------------------------------------------\n",
      "     |  Data and other attributes inherited from BaseHandler:\n",
      "     |  \n",
      "     |  handler_order = 500\n",
      "    \n",
      "    class HTTPBasicAuthHandler(AbstractBasicAuthHandler, BaseHandler)\n",
      "     |  HTTPBasicAuthHandler(password_mgr=None)\n",
      "     |  \n",
      "     |  Method resolution order:\n",
      "     |      HTTPBasicAuthHandler\n",
      "     |      AbstractBasicAuthHandler\n",
      "     |      BaseHandler\n",
      "     |      builtins.object\n",
      "     |  \n",
      "     |  Methods defined here:\n",
      "     |  \n",
      "     |  http_error_401(self, req, fp, code, msg, headers)\n",
      "     |  \n",
      "     |  ----------------------------------------------------------------------\n",
      "     |  Data and other attributes defined here:\n",
      "     |  \n",
      "     |  auth_header = 'Authorization'\n",
      "     |  \n",
      "     |  ----------------------------------------------------------------------\n",
      "     |  Methods inherited from AbstractBasicAuthHandler:\n",
      "     |  \n",
      "     |  __init__(self, password_mgr=None)\n",
      "     |      Initialize self.  See help(type(self)) for accurate signature.\n",
      "     |  \n",
      "     |  http_error_auth_reqed(self, authreq, host, req, headers)\n",
      "     |  \n",
      "     |  http_request(self, req)\n",
      "     |  \n",
      "     |  http_response(self, req, response)\n",
      "     |  \n",
      "     |  https_request = http_request(self, req)\n",
      "     |  \n",
      "     |  https_response = http_response(self, req, response)\n",
      "     |  \n",
      "     |  retry_http_basic_auth(self, host, req, realm)\n",
      "     |  \n",
      "     |  ----------------------------------------------------------------------\n",
      "     |  Data descriptors inherited from AbstractBasicAuthHandler:\n",
      "     |  \n",
      "     |  __dict__\n",
      "     |      dictionary for instance variables (if defined)\n",
      "     |  \n",
      "     |  __weakref__\n",
      "     |      list of weak references to the object (if defined)\n",
      "     |  \n",
      "     |  ----------------------------------------------------------------------\n",
      "     |  Data and other attributes inherited from AbstractBasicAuthHandler:\n",
      "     |  \n",
      "     |  rx = re.compile('(?:^|,)[ \\t]*([^ \\t,]+)[ \\t]+realm=([\"\\']?)([^\"\\']*)\\...\n",
      "     |  \n",
      "     |  ----------------------------------------------------------------------\n",
      "     |  Methods inherited from BaseHandler:\n",
      "     |  \n",
      "     |  __lt__(self, other)\n",
      "     |      Return self<value.\n",
      "     |  \n",
      "     |  add_parent(self, parent)\n",
      "     |  \n",
      "     |  close(self)\n",
      "     |  \n",
      "     |  ----------------------------------------------------------------------\n",
      "     |  Data and other attributes inherited from BaseHandler:\n",
      "     |  \n",
      "     |  handler_order = 500\n",
      "    \n",
      "    class HTTPCookieProcessor(BaseHandler)\n",
      "     |  HTTPCookieProcessor(cookiejar=None)\n",
      "     |  \n",
      "     |  Method resolution order:\n",
      "     |      HTTPCookieProcessor\n",
      "     |      BaseHandler\n",
      "     |      builtins.object\n",
      "     |  \n",
      "     |  Methods defined here:\n",
      "     |  \n",
      "     |  __init__(self, cookiejar=None)\n",
      "     |      Initialize self.  See help(type(self)) for accurate signature.\n",
      "     |  \n",
      "     |  http_request(self, request)\n",
      "     |  \n",
      "     |  http_response(self, request, response)\n",
      "     |  \n",
      "     |  https_request = http_request(self, request)\n",
      "     |  \n",
      "     |  https_response = http_response(self, request, response)\n",
      "     |  \n",
      "     |  ----------------------------------------------------------------------\n",
      "     |  Methods inherited from BaseHandler:\n",
      "     |  \n",
      "     |  __lt__(self, other)\n",
      "     |      Return self<value.\n",
      "     |  \n",
      "     |  add_parent(self, parent)\n",
      "     |  \n",
      "     |  close(self)\n",
      "     |  \n",
      "     |  ----------------------------------------------------------------------\n",
      "     |  Data descriptors inherited from BaseHandler:\n",
      "     |  \n",
      "     |  __dict__\n",
      "     |      dictionary for instance variables (if defined)\n",
      "     |  \n",
      "     |  __weakref__\n",
      "     |      list of weak references to the object (if defined)\n",
      "     |  \n",
      "     |  ----------------------------------------------------------------------\n",
      "     |  Data and other attributes inherited from BaseHandler:\n",
      "     |  \n",
      "     |  handler_order = 500\n",
      "    \n",
      "    class HTTPDefaultErrorHandler(BaseHandler)\n",
      "     |  Method resolution order:\n",
      "     |      HTTPDefaultErrorHandler\n",
      "     |      BaseHandler\n",
      "     |      builtins.object\n",
      "     |  \n",
      "     |  Methods defined here:\n",
      "     |  \n",
      "     |  http_error_default(self, req, fp, code, msg, hdrs)\n",
      "     |  \n",
      "     |  ----------------------------------------------------------------------\n",
      "     |  Methods inherited from BaseHandler:\n",
      "     |  \n",
      "     |  __lt__(self, other)\n",
      "     |      Return self<value.\n",
      "     |  \n",
      "     |  add_parent(self, parent)\n",
      "     |  \n",
      "     |  close(self)\n",
      "     |  \n",
      "     |  ----------------------------------------------------------------------\n",
      "     |  Data descriptors inherited from BaseHandler:\n",
      "     |  \n",
      "     |  __dict__\n",
      "     |      dictionary for instance variables (if defined)\n",
      "     |  \n",
      "     |  __weakref__\n",
      "     |      list of weak references to the object (if defined)\n",
      "     |  \n",
      "     |  ----------------------------------------------------------------------\n",
      "     |  Data and other attributes inherited from BaseHandler:\n",
      "     |  \n",
      "     |  handler_order = 500\n",
      "    \n",
      "    class HTTPDigestAuthHandler(BaseHandler, AbstractDigestAuthHandler)\n",
      "     |  HTTPDigestAuthHandler(passwd=None)\n",
      "     |  \n",
      "     |  An authentication protocol defined by RFC 2069\n",
      "     |  \n",
      "     |  Digest authentication improves on basic authentication because it\n",
      "     |  does not transmit passwords in the clear.\n",
      "     |  \n",
      "     |  Method resolution order:\n",
      "     |      HTTPDigestAuthHandler\n",
      "     |      BaseHandler\n",
      "     |      AbstractDigestAuthHandler\n",
      "     |      builtins.object\n",
      "     |  \n",
      "     |  Methods defined here:\n",
      "     |  \n",
      "     |  http_error_401(self, req, fp, code, msg, headers)\n",
      "     |  \n",
      "     |  ----------------------------------------------------------------------\n",
      "     |  Data and other attributes defined here:\n",
      "     |  \n",
      "     |  auth_header = 'Authorization'\n",
      "     |  \n",
      "     |  handler_order = 490\n",
      "     |  \n",
      "     |  ----------------------------------------------------------------------\n",
      "     |  Methods inherited from BaseHandler:\n",
      "     |  \n",
      "     |  __lt__(self, other)\n",
      "     |      Return self<value.\n",
      "     |  \n",
      "     |  add_parent(self, parent)\n",
      "     |  \n",
      "     |  close(self)\n",
      "     |  \n",
      "     |  ----------------------------------------------------------------------\n",
      "     |  Data descriptors inherited from BaseHandler:\n",
      "     |  \n",
      "     |  __dict__\n",
      "     |      dictionary for instance variables (if defined)\n",
      "     |  \n",
      "     |  __weakref__\n",
      "     |      list of weak references to the object (if defined)\n",
      "     |  \n",
      "     |  ----------------------------------------------------------------------\n",
      "     |  Methods inherited from AbstractDigestAuthHandler:\n",
      "     |  \n",
      "     |  __init__(self, passwd=None)\n",
      "     |      Initialize self.  See help(type(self)) for accurate signature.\n",
      "     |  \n",
      "     |  get_algorithm_impls(self, algorithm)\n",
      "     |  \n",
      "     |  get_authorization(self, req, chal)\n",
      "     |  \n",
      "     |  get_cnonce(self, nonce)\n",
      "     |  \n",
      "     |  get_entity_digest(self, data, chal)\n",
      "     |  \n",
      "     |  http_error_auth_reqed(self, auth_header, host, req, headers)\n",
      "     |  \n",
      "     |  reset_retry_count(self)\n",
      "     |  \n",
      "     |  retry_http_digest_auth(self, req, auth)\n",
      "    \n",
      "    class HTTPErrorProcessor(BaseHandler)\n",
      "     |  Process HTTP error responses.\n",
      "     |  \n",
      "     |  Method resolution order:\n",
      "     |      HTTPErrorProcessor\n",
      "     |      BaseHandler\n",
      "     |      builtins.object\n",
      "     |  \n",
      "     |  Methods defined here:\n",
      "     |  \n",
      "     |  http_response(self, request, response)\n",
      "     |  \n",
      "     |  https_response = http_response(self, request, response)\n",
      "     |  \n",
      "     |  ----------------------------------------------------------------------\n",
      "     |  Data and other attributes defined here:\n",
      "     |  \n",
      "     |  handler_order = 1000\n",
      "     |  \n",
      "     |  ----------------------------------------------------------------------\n",
      "     |  Methods inherited from BaseHandler:\n",
      "     |  \n",
      "     |  __lt__(self, other)\n",
      "     |      Return self<value.\n",
      "     |  \n",
      "     |  add_parent(self, parent)\n",
      "     |  \n",
      "     |  close(self)\n",
      "     |  \n",
      "     |  ----------------------------------------------------------------------\n",
      "     |  Data descriptors inherited from BaseHandler:\n",
      "     |  \n",
      "     |  __dict__\n",
      "     |      dictionary for instance variables (if defined)\n",
      "     |  \n",
      "     |  __weakref__\n",
      "     |      list of weak references to the object (if defined)\n",
      "    \n",
      "    class HTTPHandler(AbstractHTTPHandler)\n",
      "     |  HTTPHandler(debuglevel=0)\n",
      "     |  \n",
      "     |  Method resolution order:\n",
      "     |      HTTPHandler\n",
      "     |      AbstractHTTPHandler\n",
      "     |      BaseHandler\n",
      "     |      builtins.object\n",
      "     |  \n",
      "     |  Methods defined here:\n",
      "     |  \n",
      "     |  http_open(self, req)\n",
      "     |  \n",
      "     |  http_request = do_request_(self, request)\n",
      "     |  \n",
      "     |  ----------------------------------------------------------------------\n",
      "     |  Methods inherited from AbstractHTTPHandler:\n",
      "     |  \n",
      "     |  __init__(self, debuglevel=0)\n",
      "     |      Initialize self.  See help(type(self)) for accurate signature.\n",
      "     |  \n",
      "     |  do_open(self, http_class, req, **http_conn_args)\n",
      "     |      Return an HTTPResponse object for the request, using http_class.\n",
      "     |      \n",
      "     |      http_class must implement the HTTPConnection API from http.client.\n",
      "     |  \n",
      "     |  do_request_(self, request)\n",
      "     |  \n",
      "     |  set_http_debuglevel(self, level)\n",
      "     |  \n",
      "     |  ----------------------------------------------------------------------\n",
      "     |  Methods inherited from BaseHandler:\n",
      "     |  \n",
      "     |  __lt__(self, other)\n",
      "     |      Return self<value.\n",
      "     |  \n",
      "     |  add_parent(self, parent)\n",
      "     |  \n",
      "     |  close(self)\n",
      "     |  \n",
      "     |  ----------------------------------------------------------------------\n",
      "     |  Data descriptors inherited from BaseHandler:\n",
      "     |  \n",
      "     |  __dict__\n",
      "     |      dictionary for instance variables (if defined)\n",
      "     |  \n",
      "     |  __weakref__\n",
      "     |      list of weak references to the object (if defined)\n",
      "     |  \n",
      "     |  ----------------------------------------------------------------------\n",
      "     |  Data and other attributes inherited from BaseHandler:\n",
      "     |  \n",
      "     |  handler_order = 500\n",
      "    \n",
      "    class HTTPPasswordMgr(builtins.object)\n",
      "     |  Methods defined here:\n",
      "     |  \n",
      "     |  __init__(self)\n",
      "     |      Initialize self.  See help(type(self)) for accurate signature.\n",
      "     |  \n",
      "     |  add_password(self, realm, uri, user, passwd)\n",
      "     |  \n",
      "     |  find_user_password(self, realm, authuri)\n",
      "     |  \n",
      "     |  is_suburi(self, base, test)\n",
      "     |      Check if test is below base in a URI tree\n",
      "     |      \n",
      "     |      Both args must be URIs in reduced form.\n",
      "     |  \n",
      "     |  reduce_uri(self, uri, default_port=True)\n",
      "     |      Accept authority or URI and extract only the authority and path.\n",
      "     |  \n",
      "     |  ----------------------------------------------------------------------\n",
      "     |  Data descriptors defined here:\n",
      "     |  \n",
      "     |  __dict__\n",
      "     |      dictionary for instance variables (if defined)\n",
      "     |  \n",
      "     |  __weakref__\n",
      "     |      list of weak references to the object (if defined)\n",
      "    \n",
      "    class HTTPPasswordMgrWithDefaultRealm(HTTPPasswordMgr)\n",
      "     |  Method resolution order:\n",
      "     |      HTTPPasswordMgrWithDefaultRealm\n",
      "     |      HTTPPasswordMgr\n",
      "     |      builtins.object\n",
      "     |  \n",
      "     |  Methods defined here:\n",
      "     |  \n",
      "     |  find_user_password(self, realm, authuri)\n",
      "     |  \n",
      "     |  ----------------------------------------------------------------------\n",
      "     |  Methods inherited from HTTPPasswordMgr:\n",
      "     |  \n",
      "     |  __init__(self)\n",
      "     |      Initialize self.  See help(type(self)) for accurate signature.\n",
      "     |  \n",
      "     |  add_password(self, realm, uri, user, passwd)\n",
      "     |  \n",
      "     |  is_suburi(self, base, test)\n",
      "     |      Check if test is below base in a URI tree\n",
      "     |      \n",
      "     |      Both args must be URIs in reduced form.\n",
      "     |  \n",
      "     |  reduce_uri(self, uri, default_port=True)\n",
      "     |      Accept authority or URI and extract only the authority and path.\n",
      "     |  \n",
      "     |  ----------------------------------------------------------------------\n",
      "     |  Data descriptors inherited from HTTPPasswordMgr:\n",
      "     |  \n",
      "     |  __dict__\n",
      "     |      dictionary for instance variables (if defined)\n",
      "     |  \n",
      "     |  __weakref__\n",
      "     |      list of weak references to the object (if defined)\n",
      "    \n",
      "    class HTTPPasswordMgrWithPriorAuth(HTTPPasswordMgrWithDefaultRealm)\n",
      "     |  HTTPPasswordMgrWithPriorAuth(*args, **kwargs)\n",
      "     |  \n",
      "     |  Method resolution order:\n",
      "     |      HTTPPasswordMgrWithPriorAuth\n",
      "     |      HTTPPasswordMgrWithDefaultRealm\n",
      "     |      HTTPPasswordMgr\n",
      "     |      builtins.object\n",
      "     |  \n",
      "     |  Methods defined here:\n",
      "     |  \n",
      "     |  __init__(self, *args, **kwargs)\n",
      "     |      Initialize self.  See help(type(self)) for accurate signature.\n",
      "     |  \n",
      "     |  add_password(self, realm, uri, user, passwd, is_authenticated=False)\n",
      "     |  \n",
      "     |  is_authenticated(self, authuri)\n",
      "     |  \n",
      "     |  update_authenticated(self, uri, is_authenticated=False)\n",
      "     |  \n",
      "     |  ----------------------------------------------------------------------\n",
      "     |  Methods inherited from HTTPPasswordMgrWithDefaultRealm:\n",
      "     |  \n",
      "     |  find_user_password(self, realm, authuri)\n",
      "     |  \n",
      "     |  ----------------------------------------------------------------------\n",
      "     |  Methods inherited from HTTPPasswordMgr:\n",
      "     |  \n",
      "     |  is_suburi(self, base, test)\n",
      "     |      Check if test is below base in a URI tree\n",
      "     |      \n",
      "     |      Both args must be URIs in reduced form.\n",
      "     |  \n",
      "     |  reduce_uri(self, uri, default_port=True)\n",
      "     |      Accept authority or URI and extract only the authority and path.\n",
      "     |  \n",
      "     |  ----------------------------------------------------------------------\n",
      "     |  Data descriptors inherited from HTTPPasswordMgr:\n",
      "     |  \n",
      "     |  __dict__\n",
      "     |      dictionary for instance variables (if defined)\n",
      "     |  \n",
      "     |  __weakref__\n",
      "     |      list of weak references to the object (if defined)\n",
      "    \n",
      "    class HTTPRedirectHandler(BaseHandler)\n",
      "     |  Method resolution order:\n",
      "     |      HTTPRedirectHandler\n",
      "     |      BaseHandler\n",
      "     |      builtins.object\n",
      "     |  \n",
      "     |  Methods defined here:\n",
      "     |  \n",
      "     |  http_error_301 = http_error_302(self, req, fp, code, msg, headers)\n",
      "     |  \n",
      "     |  http_error_302(self, req, fp, code, msg, headers)\n",
      "     |      # Implementation note: To avoid the server sending us into an\n",
      "     |      # infinite loop, the request object needs to track what URLs we\n",
      "     |      # have already seen.  Do this by adding a handler-specific\n",
      "     |      # attribute to the Request object.\n",
      "     |  \n",
      "     |  http_error_303 = http_error_302(self, req, fp, code, msg, headers)\n",
      "     |  \n",
      "     |  http_error_307 = http_error_302(self, req, fp, code, msg, headers)\n",
      "     |  \n",
      "     |  redirect_request(self, req, fp, code, msg, headers, newurl)\n",
      "     |      Return a Request or None in response to a redirect.\n",
      "     |      \n",
      "     |      This is called by the http_error_30x methods when a\n",
      "     |      redirection response is received.  If a redirection should\n",
      "     |      take place, return a new Request to allow http_error_30x to\n",
      "     |      perform the redirect.  Otherwise, raise HTTPError if no-one\n",
      "     |      else should try to handle this url.  Return None if you can't\n",
      "     |      but another Handler might.\n",
      "     |  \n",
      "     |  ----------------------------------------------------------------------\n",
      "     |  Data and other attributes defined here:\n",
      "     |  \n",
      "     |  inf_msg = 'The HTTP server returned a redirect error that w...n infini...\n",
      "     |  \n",
      "     |  max_redirections = 10\n",
      "     |  \n",
      "     |  max_repeats = 4\n",
      "     |  \n",
      "     |  ----------------------------------------------------------------------\n",
      "     |  Methods inherited from BaseHandler:\n",
      "     |  \n",
      "     |  __lt__(self, other)\n",
      "     |      Return self<value.\n",
      "     |  \n",
      "     |  add_parent(self, parent)\n",
      "     |  \n",
      "     |  close(self)\n",
      "     |  \n",
      "     |  ----------------------------------------------------------------------\n",
      "     |  Data descriptors inherited from BaseHandler:\n",
      "     |  \n",
      "     |  __dict__\n",
      "     |      dictionary for instance variables (if defined)\n",
      "     |  \n",
      "     |  __weakref__\n",
      "     |      list of weak references to the object (if defined)\n",
      "     |  \n",
      "     |  ----------------------------------------------------------------------\n",
      "     |  Data and other attributes inherited from BaseHandler:\n",
      "     |  \n",
      "     |  handler_order = 500\n",
      "    \n",
      "    class HTTPSHandler(AbstractHTTPHandler)\n",
      "     |  HTTPSHandler(debuglevel=0, context=None, check_hostname=None)\n",
      "     |  \n",
      "     |  Method resolution order:\n",
      "     |      HTTPSHandler\n",
      "     |      AbstractHTTPHandler\n",
      "     |      BaseHandler\n",
      "     |      builtins.object\n",
      "     |  \n",
      "     |  Methods defined here:\n",
      "     |  \n",
      "     |  __init__(self, debuglevel=0, context=None, check_hostname=None)\n",
      "     |      Initialize self.  See help(type(self)) for accurate signature.\n",
      "     |  \n",
      "     |  https_open(self, req)\n",
      "     |  \n",
      "     |  https_request = do_request_(self, request)\n",
      "     |  \n",
      "     |  ----------------------------------------------------------------------\n",
      "     |  Methods inherited from AbstractHTTPHandler:\n",
      "     |  \n",
      "     |  do_open(self, http_class, req, **http_conn_args)\n",
      "     |      Return an HTTPResponse object for the request, using http_class.\n",
      "     |      \n",
      "     |      http_class must implement the HTTPConnection API from http.client.\n",
      "     |  \n",
      "     |  do_request_(self, request)\n",
      "     |  \n",
      "     |  set_http_debuglevel(self, level)\n",
      "     |  \n",
      "     |  ----------------------------------------------------------------------\n",
      "     |  Methods inherited from BaseHandler:\n",
      "     |  \n",
      "     |  __lt__(self, other)\n",
      "     |      Return self<value.\n",
      "     |  \n",
      "     |  add_parent(self, parent)\n",
      "     |  \n",
      "     |  close(self)\n",
      "     |  \n",
      "     |  ----------------------------------------------------------------------\n",
      "     |  Data descriptors inherited from BaseHandler:\n",
      "     |  \n",
      "     |  __dict__\n",
      "     |      dictionary for instance variables (if defined)\n",
      "     |  \n",
      "     |  __weakref__\n",
      "     |      list of weak references to the object (if defined)\n",
      "     |  \n",
      "     |  ----------------------------------------------------------------------\n",
      "     |  Data and other attributes inherited from BaseHandler:\n",
      "     |  \n",
      "     |  handler_order = 500\n",
      "    \n",
      "    class OpenerDirector(builtins.object)\n",
      "     |  Methods defined here:\n",
      "     |  \n",
      "     |  __init__(self)\n",
      "     |      Initialize self.  See help(type(self)) for accurate signature.\n",
      "     |  \n",
      "     |  add_handler(self, handler)\n",
      "     |  \n",
      "     |  close(self)\n",
      "     |  \n",
      "     |  error(self, proto, *args)\n",
      "     |  \n",
      "     |  open(self, fullurl, data=None, timeout=<object object at 0x0000021AABB38B60>)\n",
      "     |  \n",
      "     |  ----------------------------------------------------------------------\n",
      "     |  Data descriptors defined here:\n",
      "     |  \n",
      "     |  __dict__\n",
      "     |      dictionary for instance variables (if defined)\n",
      "     |  \n",
      "     |  __weakref__\n",
      "     |      list of weak references to the object (if defined)\n",
      "    \n",
      "    class ProxyBasicAuthHandler(AbstractBasicAuthHandler, BaseHandler)\n",
      "     |  ProxyBasicAuthHandler(password_mgr=None)\n",
      "     |  \n",
      "     |  Method resolution order:\n",
      "     |      ProxyBasicAuthHandler\n",
      "     |      AbstractBasicAuthHandler\n",
      "     |      BaseHandler\n",
      "     |      builtins.object\n",
      "     |  \n",
      "     |  Methods defined here:\n",
      "     |  \n",
      "     |  http_error_407(self, req, fp, code, msg, headers)\n",
      "     |  \n",
      "     |  ----------------------------------------------------------------------\n",
      "     |  Data and other attributes defined here:\n",
      "     |  \n",
      "     |  auth_header = 'Proxy-authorization'\n",
      "     |  \n",
      "     |  ----------------------------------------------------------------------\n",
      "     |  Methods inherited from AbstractBasicAuthHandler:\n",
      "     |  \n",
      "     |  __init__(self, password_mgr=None)\n",
      "     |      Initialize self.  See help(type(self)) for accurate signature.\n",
      "     |  \n",
      "     |  http_error_auth_reqed(self, authreq, host, req, headers)\n",
      "     |  \n",
      "     |  http_request(self, req)\n",
      "     |  \n",
      "     |  http_response(self, req, response)\n",
      "     |  \n",
      "     |  https_request = http_request(self, req)\n",
      "     |  \n",
      "     |  https_response = http_response(self, req, response)\n",
      "     |  \n",
      "     |  retry_http_basic_auth(self, host, req, realm)\n",
      "     |  \n",
      "     |  ----------------------------------------------------------------------\n",
      "     |  Data descriptors inherited from AbstractBasicAuthHandler:\n",
      "     |  \n",
      "     |  __dict__\n",
      "     |      dictionary for instance variables (if defined)\n",
      "     |  \n",
      "     |  __weakref__\n",
      "     |      list of weak references to the object (if defined)\n",
      "     |  \n",
      "     |  ----------------------------------------------------------------------\n",
      "     |  Data and other attributes inherited from AbstractBasicAuthHandler:\n",
      "     |  \n",
      "     |  rx = re.compile('(?:^|,)[ \\t]*([^ \\t,]+)[ \\t]+realm=([\"\\']?)([^\"\\']*)\\...\n",
      "     |  \n",
      "     |  ----------------------------------------------------------------------\n",
      "     |  Methods inherited from BaseHandler:\n",
      "     |  \n",
      "     |  __lt__(self, other)\n",
      "     |      Return self<value.\n",
      "     |  \n",
      "     |  add_parent(self, parent)\n",
      "     |  \n",
      "     |  close(self)\n",
      "     |  \n",
      "     |  ----------------------------------------------------------------------\n",
      "     |  Data and other attributes inherited from BaseHandler:\n",
      "     |  \n",
      "     |  handler_order = 500\n",
      "    \n",
      "    class ProxyDigestAuthHandler(BaseHandler, AbstractDigestAuthHandler)\n",
      "     |  ProxyDigestAuthHandler(passwd=None)\n",
      "     |  \n",
      "     |  Method resolution order:\n",
      "     |      ProxyDigestAuthHandler\n",
      "     |      BaseHandler\n",
      "     |      AbstractDigestAuthHandler\n",
      "     |      builtins.object\n",
      "     |  \n",
      "     |  Methods defined here:\n",
      "     |  \n",
      "     |  http_error_407(self, req, fp, code, msg, headers)\n",
      "     |  \n",
      "     |  ----------------------------------------------------------------------\n",
      "     |  Data and other attributes defined here:\n",
      "     |  \n",
      "     |  auth_header = 'Proxy-Authorization'\n",
      "     |  \n",
      "     |  handler_order = 490\n",
      "     |  \n",
      "     |  ----------------------------------------------------------------------\n",
      "     |  Methods inherited from BaseHandler:\n",
      "     |  \n",
      "     |  __lt__(self, other)\n",
      "     |      Return self<value.\n",
      "     |  \n",
      "     |  add_parent(self, parent)\n",
      "     |  \n",
      "     |  close(self)\n",
      "     |  \n",
      "     |  ----------------------------------------------------------------------\n",
      "     |  Data descriptors inherited from BaseHandler:\n",
      "     |  \n",
      "     |  __dict__\n",
      "     |      dictionary for instance variables (if defined)\n",
      "     |  \n",
      "     |  __weakref__\n",
      "     |      list of weak references to the object (if defined)\n",
      "     |  \n",
      "     |  ----------------------------------------------------------------------\n",
      "     |  Methods inherited from AbstractDigestAuthHandler:\n",
      "     |  \n",
      "     |  __init__(self, passwd=None)\n",
      "     |      Initialize self.  See help(type(self)) for accurate signature.\n",
      "     |  \n",
      "     |  get_algorithm_impls(self, algorithm)\n",
      "     |  \n",
      "     |  get_authorization(self, req, chal)\n",
      "     |  \n",
      "     |  get_cnonce(self, nonce)\n",
      "     |  \n",
      "     |  get_entity_digest(self, data, chal)\n",
      "     |  \n",
      "     |  http_error_auth_reqed(self, auth_header, host, req, headers)\n",
      "     |  \n",
      "     |  reset_retry_count(self)\n",
      "     |  \n",
      "     |  retry_http_digest_auth(self, req, auth)\n",
      "    \n",
      "    class ProxyHandler(BaseHandler)\n",
      "     |  ProxyHandler(proxies=None)\n",
      "     |  \n",
      "     |  Method resolution order:\n",
      "     |      ProxyHandler\n",
      "     |      BaseHandler\n",
      "     |      builtins.object\n",
      "     |  \n",
      "     |  Methods defined here:\n",
      "     |  \n",
      "     |  __init__(self, proxies=None)\n",
      "     |      Initialize self.  See help(type(self)) for accurate signature.\n",
      "     |  \n",
      "     |  proxy_open(self, req, proxy, type)\n",
      "     |  \n",
      "     |  ----------------------------------------------------------------------\n",
      "     |  Data and other attributes defined here:\n",
      "     |  \n",
      "     |  handler_order = 100\n",
      "     |  \n",
      "     |  ----------------------------------------------------------------------\n",
      "     |  Methods inherited from BaseHandler:\n",
      "     |  \n",
      "     |  __lt__(self, other)\n",
      "     |      Return self<value.\n",
      "     |  \n",
      "     |  add_parent(self, parent)\n",
      "     |  \n",
      "     |  close(self)\n",
      "     |  \n",
      "     |  ----------------------------------------------------------------------\n",
      "     |  Data descriptors inherited from BaseHandler:\n",
      "     |  \n",
      "     |  __dict__\n",
      "     |      dictionary for instance variables (if defined)\n",
      "     |  \n",
      "     |  __weakref__\n",
      "     |      list of weak references to the object (if defined)\n",
      "    \n",
      "    class Request(builtins.object)\n",
      "     |  Request(url, data=None, headers={}, origin_req_host=None, unverifiable=False, method=None)\n",
      "     |  \n",
      "     |  Methods defined here:\n",
      "     |  \n",
      "     |  __init__(self, url, data=None, headers={}, origin_req_host=None, unverifiable=False, method=None)\n",
      "     |      Initialize self.  See help(type(self)) for accurate signature.\n",
      "     |  \n",
      "     |  add_header(self, key, val)\n",
      "     |  \n",
      "     |  add_unredirected_header(self, key, val)\n",
      "     |  \n",
      "     |  get_full_url(self)\n",
      "     |  \n",
      "     |  get_header(self, header_name, default=None)\n",
      "     |  \n",
      "     |  get_method(self)\n",
      "     |      Return a string indicating the HTTP request method.\n",
      "     |  \n",
      "     |  has_header(self, header_name)\n",
      "     |  \n",
      "     |  has_proxy(self)\n",
      "     |  \n",
      "     |  header_items(self)\n",
      "     |  \n",
      "     |  remove_header(self, header_name)\n",
      "     |  \n",
      "     |  set_proxy(self, host, type)\n",
      "     |  \n",
      "     |  ----------------------------------------------------------------------\n",
      "     |  Data descriptors defined here:\n",
      "     |  \n",
      "     |  __dict__\n",
      "     |      dictionary for instance variables (if defined)\n",
      "     |  \n",
      "     |  __weakref__\n",
      "     |      list of weak references to the object (if defined)\n",
      "     |  \n",
      "     |  data\n",
      "     |  \n",
      "     |  full_url\n",
      "    \n",
      "    class URLopener(builtins.object)\n",
      "     |  URLopener(proxies=None, **x509)\n",
      "     |  \n",
      "     |  Class to open URLs.\n",
      "     |  This is a class rather than just a subroutine because we may need\n",
      "     |  more than one set of global protocol-specific options.\n",
      "     |  Note -- this is a base class for those who don't want the\n",
      "     |  automatic handling of errors type 302 (relocated) and 401\n",
      "     |  (authorization needed).\n",
      "     |  \n",
      "     |  Methods defined here:\n",
      "     |  \n",
      "     |  __del__(self)\n",
      "     |  \n",
      "     |  __init__(self, proxies=None, **x509)\n",
      "     |      Initialize self.  See help(type(self)) for accurate signature.\n",
      "     |  \n",
      "     |  addheader(self, *args)\n",
      "     |      Add a header to be used by the HTTP interface only\n",
      "     |      e.g. u.addheader('Accept', 'sound/basic')\n",
      "     |  \n",
      "     |  cleanup(self)\n",
      "     |  \n",
      "     |  close(self)\n",
      "     |  \n",
      "     |  http_error(self, url, fp, errcode, errmsg, headers, data=None)\n",
      "     |      Handle http errors.\n",
      "     |      \n",
      "     |      Derived class can override this, or provide specific handlers\n",
      "     |      named http_error_DDD where DDD is the 3-digit error code.\n",
      "     |  \n",
      "     |  http_error_default(self, url, fp, errcode, errmsg, headers)\n",
      "     |      Default error handler: close the connection and raise OSError.\n",
      "     |  \n",
      "     |  open(self, fullurl, data=None)\n",
      "     |      Use URLopener().open(file) instead of open(file, 'r').\n",
      "     |  \n",
      "     |  open_data(self, url, data=None)\n",
      "     |      Use \"data\" URL.\n",
      "     |  \n",
      "     |  open_file(self, url)\n",
      "     |      Use local file or FTP depending on form of URL.\n",
      "     |  \n",
      "     |  open_ftp(self, url)\n",
      "     |      Use FTP protocol.\n",
      "     |  \n",
      "     |  open_http(self, url, data=None)\n",
      "     |      Use HTTP protocol.\n",
      "     |  \n",
      "     |  open_https(self, url, data=None)\n",
      "     |      Use HTTPS protocol.\n",
      "     |  \n",
      "     |  open_local_file(self, url)\n",
      "     |      Use local file.\n",
      "     |  \n",
      "     |  open_unknown(self, fullurl, data=None)\n",
      "     |      Overridable interface to open unknown URL type.\n",
      "     |  \n",
      "     |  open_unknown_proxy(self, proxy, fullurl, data=None)\n",
      "     |      Overridable interface to open unknown URL type.\n",
      "     |  \n",
      "     |  retrieve(self, url, filename=None, reporthook=None, data=None)\n",
      "     |      retrieve(url) returns (filename, headers) for a local object\n",
      "     |      or (tempfilename, headers) for a remote object.\n",
      "     |  \n",
      "     |  ----------------------------------------------------------------------\n",
      "     |  Data descriptors defined here:\n",
      "     |  \n",
      "     |  __dict__\n",
      "     |      dictionary for instance variables (if defined)\n",
      "     |  \n",
      "     |  __weakref__\n",
      "     |      list of weak references to the object (if defined)\n",
      "     |  \n",
      "     |  ----------------------------------------------------------------------\n",
      "     |  Data and other attributes defined here:\n",
      "     |  \n",
      "     |  version = 'Python-urllib/3.10'\n",
      "    \n",
      "    class UnknownHandler(BaseHandler)\n",
      "     |  Method resolution order:\n",
      "     |      UnknownHandler\n",
      "     |      BaseHandler\n",
      "     |      builtins.object\n",
      "     |  \n",
      "     |  Methods defined here:\n",
      "     |  \n",
      "     |  unknown_open(self, req)\n",
      "     |  \n",
      "     |  ----------------------------------------------------------------------\n",
      "     |  Methods inherited from BaseHandler:\n",
      "     |  \n",
      "     |  __lt__(self, other)\n",
      "     |      Return self<value.\n",
      "     |  \n",
      "     |  add_parent(self, parent)\n",
      "     |  \n",
      "     |  close(self)\n",
      "     |  \n",
      "     |  ----------------------------------------------------------------------\n",
      "     |  Data descriptors inherited from BaseHandler:\n",
      "     |  \n",
      "     |  __dict__\n",
      "     |      dictionary for instance variables (if defined)\n",
      "     |  \n",
      "     |  __weakref__\n",
      "     |      list of weak references to the object (if defined)\n",
      "     |  \n",
      "     |  ----------------------------------------------------------------------\n",
      "     |  Data and other attributes inherited from BaseHandler:\n",
      "     |  \n",
      "     |  handler_order = 500\n",
      "\n",
      "FUNCTIONS\n",
      "    build_opener(*handlers)\n",
      "        Create an opener object from a list of handlers.\n",
      "        \n",
      "        The opener will use several default handlers, including support\n",
      "        for HTTP, FTP and when applicable HTTPS.\n",
      "        \n",
      "        If any of the handlers passed as arguments are subclasses of the\n",
      "        default handlers, the default handlers will not be used.\n",
      "    \n",
      "    getproxies()\n",
      "        Return a dictionary of scheme -> proxy server URL mappings.\n",
      "        \n",
      "        Returns settings gathered from the environment, if specified,\n",
      "        or the registry.\n",
      "    \n",
      "    install_opener(opener)\n",
      "    \n",
      "    pathname2url(p)\n",
      "        OS-specific conversion from a file system path to a relative URL\n",
      "        of the 'file' scheme; not recommended for general use.\n",
      "    \n",
      "    url2pathname(url)\n",
      "        OS-specific conversion from a relative URL of the 'file' scheme\n",
      "        to a file system path; not recommended for general use.\n",
      "    \n",
      "    urlcleanup()\n",
      "        Clean up temporary files from urlretrieve calls.\n",
      "    \n",
      "    urlopen(url, data=None, timeout=<object object at 0x0000021AABB38B60>, *, cafile=None, capath=None, cadefault=False, context=None)\n",
      "        Open the URL url, which can be either a string or a Request object.\n",
      "        \n",
      "        *data* must be an object specifying additional data to be sent to\n",
      "        the server, or None if no such data is needed.  See Request for\n",
      "        details.\n",
      "        \n",
      "        urllib.request module uses HTTP/1.1 and includes a \"Connection:close\"\n",
      "        header in its HTTP requests.\n",
      "        \n",
      "        The optional *timeout* parameter specifies a timeout in seconds for\n",
      "        blocking operations like the connection attempt (if not specified, the\n",
      "        global default timeout setting will be used). This only works for HTTP,\n",
      "        HTTPS and FTP connections.\n",
      "        \n",
      "        If *context* is specified, it must be a ssl.SSLContext instance describing\n",
      "        the various SSL options. See HTTPSConnection for more details.\n",
      "        \n",
      "        The optional *cafile* and *capath* parameters specify a set of trusted CA\n",
      "        certificates for HTTPS requests. cafile should point to a single file\n",
      "        containing a bundle of CA certificates, whereas capath should point to a\n",
      "        directory of hashed certificate files. More information can be found in\n",
      "        ssl.SSLContext.load_verify_locations().\n",
      "        \n",
      "        The *cadefault* parameter is ignored.\n",
      "        \n",
      "        \n",
      "        This function always returns an object which can work as a\n",
      "        context manager and has the properties url, headers, and status.\n",
      "        See urllib.response.addinfourl for more detail on these properties.\n",
      "        \n",
      "        For HTTP and HTTPS URLs, this function returns a http.client.HTTPResponse\n",
      "        object slightly modified. In addition to the three new methods above, the\n",
      "        msg attribute contains the same information as the reason attribute ---\n",
      "        the reason phrase returned by the server --- instead of the response\n",
      "        headers as it is specified in the documentation for HTTPResponse.\n",
      "        \n",
      "        For FTP, file, and data URLs and requests explicitly handled by legacy\n",
      "        URLopener and FancyURLopener classes, this function returns a\n",
      "        urllib.response.addinfourl object.\n",
      "        \n",
      "        Note that None may be returned if no handler handles the request (though\n",
      "        the default installed global OpenerDirector uses UnknownHandler to ensure\n",
      "        this never happens).\n",
      "        \n",
      "        In addition, if proxy settings are detected (for example, when a *_proxy\n",
      "        environment variable like http_proxy is set), ProxyHandler is default\n",
      "        installed and makes sure the requests are handled through the proxy.\n",
      "    \n",
      "    urlretrieve(url, filename=None, reporthook=None, data=None)\n",
      "        Retrieve a URL into a temporary location on disk.\n",
      "        \n",
      "        Requires a URL argument. If a filename is passed, it is used as\n",
      "        the temporary file location. The reporthook argument should be\n",
      "        a callable that accepts a block number, a read size, and the\n",
      "        total file size of the URL target. The data argument should be\n",
      "        valid URL encoded data.\n",
      "        \n",
      "        If a filename is passed and the URL points to a local resource,\n",
      "        the result is a copy from local file to new file.\n",
      "        \n",
      "        Returns a tuple containing the path to the newly created\n",
      "        data file as well as the resulting HTTPMessage object.\n",
      "\n",
      "DATA\n",
      "    __all__ = ['Request', 'OpenerDirector', 'BaseHandler', 'HTTPDefaultErr...\n",
      "\n",
      "VERSION\n",
      "    3.10\n",
      "\n",
      "FILE\n",
      "    c:\\users\\ramku\\anaconda3\\envs\\ece5831-2024\\lib\\urllib\\request.py\n",
      "\n",
      "\n"
     ]
    }
   ],
   "source": [
    "help(urllib.request)"
   ]
  },
  {
   "cell_type": "markdown",
   "metadata": {},
   "source": [
    "#### Exercise"
   ]
  },
  {
   "cell_type": "code",
   "execution_count": 95,
   "metadata": {},
   "outputs": [
    {
     "name": "stdout",
     "output_type": "stream",
     "text": [
      "['findall', 'finditer']\n"
     ]
    }
   ],
   "source": [
    "import re\n",
    "\n",
    "find_members = []\n",
    "\n",
    "attributesList = dir(re)\n",
    "\n",
    "for attributes in attributesList:\n",
    "    if \"find\" in attributes:\n",
    "        find_members.append(attributes)\n",
    "\n",
    "\n",
    "print(sorted(find_members))"
   ]
  }
 ],
 "metadata": {
  "kernelspec": {
   "display_name": "ece5831-2024",
   "language": "python",
   "name": "python3"
  },
  "language_info": {
   "codemirror_mode": {
    "name": "ipython",
    "version": 3
   },
   "file_extension": ".py",
   "mimetype": "text/x-python",
   "name": "python",
   "nbconvert_exporter": "python",
   "pygments_lexer": "ipython3",
   "version": "3.10.14"
  }
 },
 "nbformat": 4,
 "nbformat_minor": 2
}
