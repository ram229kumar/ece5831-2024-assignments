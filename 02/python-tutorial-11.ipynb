{
 "cells": [
  {
   "cell_type": "markdown",
   "metadata": {},
   "source": [
    "## Python Modules"
   ]
  },
  {
   "cell_type": "code",
   "execution_count": 11,
   "metadata": {},
   "outputs": [
    {
     "name": "stdout",
     "output_type": "stream",
     "text": [
      "101.0\n"
     ]
    }
   ],
   "source": [
    "# main.py\n",
    "import pricing\n",
    "\n",
    "\n",
    "net_price = pricing.get_net_price(\n",
    "    price=100,\n",
    "    tax_rate=0.01\n",
    ")\n",
    "\n",
    "print(net_price)"
   ]
  },
  {
   "cell_type": "code",
   "execution_count": 14,
   "metadata": {},
   "outputs": [
    {
     "name": "stdout",
     "output_type": "stream",
     "text": [
      "101.0\n"
     ]
    }
   ],
   "source": [
    "import pricing as selling_price\n",
    "\n",
    "net_price = selling_price.get_net_price(\n",
    "    price=100,\n",
    "    tax_rate=0.01\n",
    ")\n",
    "\n",
    "# main.py\n",
    "from pricing import get_net_price\n",
    "\n",
    "net_price = get_net_price(price=100, tax_rate=0.01)\n",
    "print(net_price)"
   ]
  },
  {
   "cell_type": "code",
   "execution_count": 15,
   "metadata": {},
   "outputs": [],
   "source": [
    "from pricing import get_net_price as calculate_net_price\n",
    "\n",
    "net_price = calculate_net_price(\n",
    "    price=100,\n",
    "    tax_rate=0.1,\n",
    "    discount=0.05\n",
    ")"
   ]
  },
  {
   "cell_type": "code",
   "execution_count": 16,
   "metadata": {},
   "outputs": [
    {
     "name": "stdout",
     "output_type": "stream",
     "text": [
      "10.0\n"
     ]
    }
   ],
   "source": [
    "from pricing import *\n",
    "from product import *\n",
    "\n",
    "tax = get_tax(100)\n",
    "print(tax)"
   ]
  },
  {
   "cell_type": "markdown",
   "metadata": {},
   "source": [
    "### Python module search path"
   ]
  },
  {
   "cell_type": "code",
   "execution_count": 3,
   "metadata": {},
   "outputs": [
    {
     "name": "stdout",
     "output_type": "stream",
     "text": [
      "c:\\Users\\ramku\\anaconda3\\envs\\ece5831-2024\\python310.zip\n",
      "c:\\Users\\ramku\\anaconda3\\envs\\ece5831-2024\\DLLs\n",
      "c:\\Users\\ramku\\anaconda3\\envs\\ece5831-2024\\lib\n",
      "c:\\Users\\ramku\\anaconda3\\envs\\ece5831-2024\n",
      "\n",
      "c:\\Users\\ramku\\anaconda3\\envs\\ece5831-2024\\lib\\site-packages\n",
      "c:\\Users\\ramku\\anaconda3\\envs\\ece5831-2024\\lib\\site-packages\\win32\n",
      "c:\\Users\\ramku\\anaconda3\\envs\\ece5831-2024\\lib\\site-packages\\win32\\lib\n",
      "c:\\Users\\ramku\\anaconda3\\envs\\ece5831-2024\\lib\\site-packages\\Pythonwin\n"
     ]
    }
   ],
   "source": [
    "import sys\n",
    "\n",
    "for path in sys.path:\n",
    "    print(path)\n"
   ]
  },
  {
   "cell_type": "code",
   "execution_count": 7,
   "metadata": {},
   "outputs": [],
   "source": [
    "import sys\n",
    "sys.path.append('d:\\\\modules\\\\')"
   ]
  },
  {
   "cell_type": "markdown",
   "metadata": {},
   "source": [
    "### Python Packages"
   ]
  }
 ],
 "metadata": {
  "kernelspec": {
   "display_name": "ece5831-2024",
   "language": "python",
   "name": "python3"
  },
  "language_info": {
   "codemirror_mode": {
    "name": "ipython",
    "version": 3
   },
   "file_extension": ".py",
   "mimetype": "text/x-python",
   "name": "python",
   "nbconvert_exporter": "python",
   "pygments_lexer": "ipython3",
   "version": "3.10.14"
  }
 },
 "nbformat": 4,
 "nbformat_minor": 2
}
